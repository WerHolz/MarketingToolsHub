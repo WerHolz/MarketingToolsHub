{
  "cells": [
    {
      "cell_type": "markdown",
      "source": [
        "# A/B testing for made-up project - Kittengram (365 Data Science project)"
      ],
      "metadata": {
        "id": "0K90YwY5CqR4"
      },
      "id": "0K90YwY5CqR4"
    },
    {
      "cell_type": "markdown",
      "source": [
        "*Kittengram* - analog of Instagram, where users can post photos of their cats (only cats are monitored by a machine algorithm and in complex cases, a small group of researchers). \n",
        "\n",
        "**The main business task** facing the project and requiring a/b test\n",
        "\n",
        "Kittengram received an offer from advertisers with a relevant product (cat food). The advertising involves affiliate program royalties. \n",
        "\n",
        "**The main purpose of the test** \n",
        "is to compare the control group and the test group for interest and conversion to this type of advertising. The main metrics that will interest us are\n",
        "\n",
        "\n",
        "---\n",
        "\n",
        "**Success metrics** - CTR + Affilate revenue, number of users making purchases, number of customers \n",
        "\n",
        "**Guardrial metric** - stable DAU\n"
      ],
      "metadata": {
        "id": "ZZC3r9OWCp_Y"
      },
      "id": "ZZC3r9OWCp_Y"
    },
    {
      "cell_type": "markdown",
      "source": [
        "**A hypothesis**\n",
        "Users have more relevan ads - They are more likely to click - More likely to purchase - More User satisfaction - Higher affilate revenue\n",
        "\n",
        "**H1** - With the new type od ads users are more likely click on ads and CTR will increase per user\n",
        "**H0** - New type of ads will have no effect on user engagement and will not affect CTR\n",
        "\n",
        "**Minimum Detectable Effect** - at least 91 DAU difference between test and contorl group (0,33%) and CTR at least 1,8pp"
      ],
      "metadata": {
        "id": "5Vww9sdKCqJ3"
      },
      "id": "5Vww9sdKCqJ3"
    },
    {
      "cell_type": "markdown",
      "id": "f23f6747-d8d7-4964-a5e3-432a05369bb3",
      "metadata": {
        "id": "f23f6747-d8d7-4964-a5e3-432a05369bb3"
      },
      "source": [
        "# A/B test analysis"
      ]
    },
    {
      "cell_type": "markdown",
      "id": "0e346d33-6399-486d-b7da-7d5cf4fdec31",
      "metadata": {
        "id": "0e346d33-6399-486d-b7da-7d5cf4fdec31"
      },
      "source": [
        "## Assignments"
      ]
    },
    {
      "cell_type": "code",
      "execution_count": null,
      "id": "4f97cf8d-11d6-41a2-a8af-c539517686c3",
      "metadata": {
        "id": "4f97cf8d-11d6-41a2-a8af-c539517686c3"
      },
      "outputs": [],
      "source": [
        "#Import libraries\n",
        "\n",
        "import pandas as pd\n",
        "import numpy as np\n",
        "import altair as alt\n",
        "alt.data_transformers.disable_max_rows()\n",
        "from datetime import datetime\n",
        "from scipy.stats import ttest_ind"
      ]
    },
    {
      "cell_type": "code",
      "execution_count": null,
      "id": "d1fe91d9-852d-4153-9c84-367f7168c3d6",
      "metadata": {
        "id": "d1fe91d9-852d-4153-9c84-367f7168c3d6"
      },
      "outputs": [],
      "source": [
        "#Import dataset\n",
        "\n",
        "data = pd.read_csv(\"data/assignments.csv\")"
      ]
    },
    {
      "cell_type": "code",
      "execution_count": null,
      "id": "e244d0b0-3be5-4df9-9da0-82e41636c07d",
      "metadata": {
        "id": "e244d0b0-3be5-4df9-9da0-82e41636c07d",
        "outputId": "897c5d84-90e7-4e66-fa36-22919e6e71d1"
      },
      "outputs": [
        {
          "data": {
            "text/html": [
              "<div>\n",
              "<style scoped>\n",
              "    .dataframe tbody tr th:only-of-type {\n",
              "        vertical-align: middle;\n",
              "    }\n",
              "\n",
              "    .dataframe tbody tr th {\n",
              "        vertical-align: top;\n",
              "    }\n",
              "\n",
              "    .dataframe thead th {\n",
              "        text-align: right;\n",
              "    }\n",
              "</style>\n",
              "<table border=\"1\" class=\"dataframe\">\n",
              "  <thead>\n",
              "    <tr style=\"text-align: right;\">\n",
              "      <th></th>\n",
              "      <th>userid</th>\n",
              "      <th>ts</th>\n",
              "      <th>groupid</th>\n",
              "    </tr>\n",
              "  </thead>\n",
              "  <tbody>\n",
              "    <tr>\n",
              "      <th>0</th>\n",
              "      <td>c5d77c89-33a3-4fe3-9e31-179dec09d49c</td>\n",
              "      <td>2021-11-02T07:31:42Z</td>\n",
              "      <td>0</td>\n",
              "    </tr>\n",
              "    <tr>\n",
              "      <th>1</th>\n",
              "      <td>9061d751-7a94-44d3-8792-5ca5ec59aa89</td>\n",
              "      <td>2021-11-13T07:43:51Z</td>\n",
              "      <td>0</td>\n",
              "    </tr>\n",
              "    <tr>\n",
              "      <th>2</th>\n",
              "      <td>a5b70ae7-f07c-4773-9df4-ce112bc9dc48</td>\n",
              "      <td>2021-11-20T19:26:07Z</td>\n",
              "      <td>0</td>\n",
              "    </tr>\n",
              "    <tr>\n",
              "      <th>3</th>\n",
              "      <td>d2646662-269f-49de-aab1-8776afced9a3</td>\n",
              "      <td>2021-11-20T11:09:02Z</td>\n",
              "      <td>0</td>\n",
              "    </tr>\n",
              "    <tr>\n",
              "      <th>4</th>\n",
              "      <td>2d9b23b7-4e5e-4162-9f0f-49e593fdd2b5</td>\n",
              "      <td>2021-11-04T07:42:07Z</td>\n",
              "      <td>0</td>\n",
              "    </tr>\n",
              "  </tbody>\n",
              "</table>\n",
              "</div>"
            ],
            "text/plain": [
              "                                 userid                    ts  groupid\n",
              "0  c5d77c89-33a3-4fe3-9e31-179dec09d49c  2021-11-02T07:31:42Z        0\n",
              "1  9061d751-7a94-44d3-8792-5ca5ec59aa89  2021-11-13T07:43:51Z        0\n",
              "2  a5b70ae7-f07c-4773-9df4-ce112bc9dc48  2021-11-20T19:26:07Z        0\n",
              "3  d2646662-269f-49de-aab1-8776afced9a3  2021-11-20T11:09:02Z        0\n",
              "4  2d9b23b7-4e5e-4162-9f0f-49e593fdd2b5  2021-11-04T07:42:07Z        0"
            ]
          },
          "execution_count": 3,
          "metadata": {},
          "output_type": "execute_result"
        }
      ],
      "source": [
        "data.head()"
      ]
    },
    {
      "cell_type": "code",
      "execution_count": null,
      "id": "644a07ad-76df-43e3-9972-db25b92cafad",
      "metadata": {
        "id": "644a07ad-76df-43e3-9972-db25b92cafad"
      },
      "outputs": [],
      "source": [
        " #Change the data type\n",
        " \n",
        " print(datetime.strptime(data.head(1)['ts'][0], '%Y-%m-%dT%H:%M:%SZ').strftime(\"%Y-%m-%d\"))"
      ]
    },
    {
      "cell_type": "code",
      "execution_count": null,
      "id": "85f871a3-460b-4506-ab93-28a2334d9f4f",
      "metadata": {
        "id": "85f871a3-460b-4506-ab93-28a2334d9f4f"
      },
      "outputs": [],
      "source": [
        "#New column with a data\n",
        "\n",
        "data['dt'] = data['ts'].map(lambda x: datetime.strptime(x, '%Y-%m-%dT%H:%M:%SZ').strftime(\"%Y-%m-%d\"))"
      ]
    },
    {
      "cell_type": "code",
      "execution_count": null,
      "id": "84a76d24-a8d5-4243-898b-aeea9359f64c",
      "metadata": {
        "id": "84a76d24-a8d5-4243-898b-aeea9359f64c",
        "outputId": "850820da-3989-43f0-da09-84b1852c0870"
      },
      "outputs": [
        {
          "data": {
            "text/html": [
              "<div>\n",
              "<style scoped>\n",
              "    .dataframe tbody tr th:only-of-type {\n",
              "        vertical-align: middle;\n",
              "    }\n",
              "\n",
              "    .dataframe tbody tr th {\n",
              "        vertical-align: top;\n",
              "    }\n",
              "\n",
              "    .dataframe thead th {\n",
              "        text-align: right;\n",
              "    }\n",
              "</style>\n",
              "<table border=\"1\" class=\"dataframe\">\n",
              "  <thead>\n",
              "    <tr style=\"text-align: right;\">\n",
              "      <th></th>\n",
              "      <th>userid</th>\n",
              "      <th>ts</th>\n",
              "      <th>groupid</th>\n",
              "      <th>dt</th>\n",
              "    </tr>\n",
              "  </thead>\n",
              "  <tbody>\n",
              "    <tr>\n",
              "      <th>0</th>\n",
              "      <td>c5d77c89-33a3-4fe3-9e31-179dec09d49c</td>\n",
              "      <td>2021-11-02T07:31:42Z</td>\n",
              "      <td>0</td>\n",
              "      <td>2021-11-02</td>\n",
              "    </tr>\n",
              "    <tr>\n",
              "      <th>1</th>\n",
              "      <td>9061d751-7a94-44d3-8792-5ca5ec59aa89</td>\n",
              "      <td>2021-11-13T07:43:51Z</td>\n",
              "      <td>0</td>\n",
              "      <td>2021-11-13</td>\n",
              "    </tr>\n",
              "    <tr>\n",
              "      <th>2</th>\n",
              "      <td>a5b70ae7-f07c-4773-9df4-ce112bc9dc48</td>\n",
              "      <td>2021-11-20T19:26:07Z</td>\n",
              "      <td>0</td>\n",
              "      <td>2021-11-20</td>\n",
              "    </tr>\n",
              "    <tr>\n",
              "      <th>3</th>\n",
              "      <td>d2646662-269f-49de-aab1-8776afced9a3</td>\n",
              "      <td>2021-11-20T11:09:02Z</td>\n",
              "      <td>0</td>\n",
              "      <td>2021-11-20</td>\n",
              "    </tr>\n",
              "    <tr>\n",
              "      <th>4</th>\n",
              "      <td>2d9b23b7-4e5e-4162-9f0f-49e593fdd2b5</td>\n",
              "      <td>2021-11-04T07:42:07Z</td>\n",
              "      <td>0</td>\n",
              "      <td>2021-11-04</td>\n",
              "    </tr>\n",
              "  </tbody>\n",
              "</table>\n",
              "</div>"
            ],
            "text/plain": [
              "                                 userid                    ts  groupid  \\\n",
              "0  c5d77c89-33a3-4fe3-9e31-179dec09d49c  2021-11-02T07:31:42Z        0   \n",
              "1  9061d751-7a94-44d3-8792-5ca5ec59aa89  2021-11-13T07:43:51Z        0   \n",
              "2  a5b70ae7-f07c-4773-9df4-ce112bc9dc48  2021-11-20T19:26:07Z        0   \n",
              "3  d2646662-269f-49de-aab1-8776afced9a3  2021-11-20T11:09:02Z        0   \n",
              "4  2d9b23b7-4e5e-4162-9f0f-49e593fdd2b5  2021-11-04T07:42:07Z        0   \n",
              "\n",
              "           dt  \n",
              "0  2021-11-02  \n",
              "1  2021-11-13  \n",
              "2  2021-11-20  \n",
              "3  2021-11-20  \n",
              "4  2021-11-04  "
            ]
          },
          "execution_count": 6,
          "metadata": {},
          "output_type": "execute_result"
        }
      ],
      "source": [
        "data.head()"
      ]
    },
    {
      "cell_type": "code",
      "execution_count": null,
      "id": "f88851f9-8752-49c7-88c7-88a8c416cf87",
      "metadata": {
        "id": "f88851f9-8752-49c7-88c7-88a8c416cf87",
        "outputId": "4c59c7f7-a999-4d40-b1b7-3a7db7139a70"
      },
      "outputs": [
        {
          "data": {
            "text/html": [
              "<div>\n",
              "<style scoped>\n",
              "    .dataframe tbody tr th:only-of-type {\n",
              "        vertical-align: middle;\n",
              "    }\n",
              "\n",
              "    .dataframe tbody tr th {\n",
              "        vertical-align: top;\n",
              "    }\n",
              "\n",
              "    .dataframe thead th {\n",
              "        text-align: right;\n",
              "    }\n",
              "</style>\n",
              "<table border=\"1\" class=\"dataframe\">\n",
              "  <thead>\n",
              "    <tr style=\"text-align: right;\">\n",
              "      <th></th>\n",
              "      <th>groupid</th>\n",
              "    </tr>\n",
              "  </thead>\n",
              "  <tbody>\n",
              "    <tr>\n",
              "      <th>count</th>\n",
              "      <td>60000.000000</td>\n",
              "    </tr>\n",
              "    <tr>\n",
              "      <th>mean</th>\n",
              "      <td>0.500817</td>\n",
              "    </tr>\n",
              "    <tr>\n",
              "      <th>std</th>\n",
              "      <td>0.500003</td>\n",
              "    </tr>\n",
              "    <tr>\n",
              "      <th>min</th>\n",
              "      <td>0.000000</td>\n",
              "    </tr>\n",
              "    <tr>\n",
              "      <th>25%</th>\n",
              "      <td>0.000000</td>\n",
              "    </tr>\n",
              "    <tr>\n",
              "      <th>50%</th>\n",
              "      <td>1.000000</td>\n",
              "    </tr>\n",
              "    <tr>\n",
              "      <th>75%</th>\n",
              "      <td>1.000000</td>\n",
              "    </tr>\n",
              "    <tr>\n",
              "      <th>max</th>\n",
              "      <td>1.000000</td>\n",
              "    </tr>\n",
              "  </tbody>\n",
              "</table>\n",
              "</div>"
            ],
            "text/plain": [
              "            groupid\n",
              "count  60000.000000\n",
              "mean       0.500817\n",
              "std        0.500003\n",
              "min        0.000000\n",
              "25%        0.000000\n",
              "50%        1.000000\n",
              "75%        1.000000\n",
              "max        1.000000"
            ]
          },
          "execution_count": 7,
          "metadata": {},
          "output_type": "execute_result"
        }
      ],
      "source": [
        "#From the mean we can see that two our groups have even distribution\n",
        "\n",
        "data.describe()"
      ]
    },
    {
      "cell_type": "code",
      "execution_count": null,
      "id": "11133ce5-448c-4d4d-b717-dc98011652bf",
      "metadata": {
        "id": "11133ce5-448c-4d4d-b717-dc98011652bf",
        "outputId": "2b563d50-dff2-41c6-a6e8-0d5a1a249efd"
      },
      "outputs": [
        {
          "data": {
            "text/html": [
              "<div>\n",
              "<style scoped>\n",
              "    .dataframe tbody tr th:only-of-type {\n",
              "        vertical-align: middle;\n",
              "    }\n",
              "\n",
              "    .dataframe tbody tr th {\n",
              "        vertical-align: top;\n",
              "    }\n",
              "\n",
              "    .dataframe thead th {\n",
              "        text-align: right;\n",
              "    }\n",
              "</style>\n",
              "<table border=\"1\" class=\"dataframe\">\n",
              "  <thead>\n",
              "    <tr style=\"text-align: right;\">\n",
              "      <th></th>\n",
              "      <th>userid</th>\n",
              "      <th>ts</th>\n",
              "      <th>dt</th>\n",
              "    </tr>\n",
              "    <tr>\n",
              "      <th>groupid</th>\n",
              "      <th></th>\n",
              "      <th></th>\n",
              "      <th></th>\n",
              "    </tr>\n",
              "  </thead>\n",
              "  <tbody>\n",
              "    <tr>\n",
              "      <th>0</th>\n",
              "      <td>29951</td>\n",
              "      <td>29951</td>\n",
              "      <td>29951</td>\n",
              "    </tr>\n",
              "    <tr>\n",
              "      <th>1</th>\n",
              "      <td>30049</td>\n",
              "      <td>30049</td>\n",
              "      <td>30049</td>\n",
              "    </tr>\n",
              "  </tbody>\n",
              "</table>\n",
              "</div>"
            ],
            "text/plain": [
              "         userid     ts     dt\n",
              "groupid                      \n",
              "0         29951  29951  29951\n",
              "1         30049  30049  30049"
            ]
          },
          "execution_count": 8,
          "metadata": {},
          "output_type": "execute_result"
        }
      ],
      "source": [
        "#Actual number of users\n",
        "\n",
        "data.groupby(['groupid']).count()"
      ]
    },
    {
      "cell_type": "code",
      "execution_count": null,
      "id": "a2a663f0-a170-46bd-9395-fd074cad537b",
      "metadata": {
        "id": "a2a663f0-a170-46bd-9395-fd074cad537b"
      },
      "outputs": [],
      "source": [
        "#How many users assigned to each group in each day\n",
        "\n",
        "data_count = data.groupby(['groupid','dt']).count().reset_index()"
      ]
    },
    {
      "cell_type": "code",
      "execution_count": null,
      "id": "90a4e9be-8ec9-4d67-8d48-02861038b5eb",
      "metadata": {
        "id": "90a4e9be-8ec9-4d67-8d48-02861038b5eb",
        "outputId": "d9d4743d-618b-431d-f3b1-e8a16c8539cd"
      },
      "outputs": [
        {
          "data": {
            "text/html": [
              "<div>\n",
              "<style scoped>\n",
              "    .dataframe tbody tr th:only-of-type {\n",
              "        vertical-align: middle;\n",
              "    }\n",
              "\n",
              "    .dataframe tbody tr th {\n",
              "        vertical-align: top;\n",
              "    }\n",
              "\n",
              "    .dataframe thead th {\n",
              "        text-align: right;\n",
              "    }\n",
              "</style>\n",
              "<table border=\"1\" class=\"dataframe\">\n",
              "  <thead>\n",
              "    <tr style=\"text-align: right;\">\n",
              "      <th></th>\n",
              "      <th>groupid</th>\n",
              "      <th>dt</th>\n",
              "      <th>userid</th>\n",
              "      <th>ts</th>\n",
              "    </tr>\n",
              "  </thead>\n",
              "  <tbody>\n",
              "    <tr>\n",
              "      <th>0</th>\n",
              "      <td>0</td>\n",
              "      <td>2021-11-01</td>\n",
              "      <td>1497</td>\n",
              "      <td>1497</td>\n",
              "    </tr>\n",
              "    <tr>\n",
              "      <th>1</th>\n",
              "      <td>0</td>\n",
              "      <td>2021-11-02</td>\n",
              "      <td>1467</td>\n",
              "      <td>1467</td>\n",
              "    </tr>\n",
              "    <tr>\n",
              "      <th>2</th>\n",
              "      <td>0</td>\n",
              "      <td>2021-11-03</td>\n",
              "      <td>1532</td>\n",
              "      <td>1532</td>\n",
              "    </tr>\n",
              "    <tr>\n",
              "      <th>3</th>\n",
              "      <td>0</td>\n",
              "      <td>2021-11-04</td>\n",
              "      <td>1509</td>\n",
              "      <td>1509</td>\n",
              "    </tr>\n",
              "    <tr>\n",
              "      <th>4</th>\n",
              "      <td>0</td>\n",
              "      <td>2021-11-05</td>\n",
              "      <td>1503</td>\n",
              "      <td>1503</td>\n",
              "    </tr>\n",
              "  </tbody>\n",
              "</table>\n",
              "</div>"
            ],
            "text/plain": [
              "   groupid          dt  userid    ts\n",
              "0        0  2021-11-01    1497  1497\n",
              "1        0  2021-11-02    1467  1467\n",
              "2        0  2021-11-03    1532  1532\n",
              "3        0  2021-11-04    1509  1509\n",
              "4        0  2021-11-05    1503  1503"
            ]
          },
          "execution_count": 10,
          "metadata": {},
          "output_type": "execute_result"
        }
      ],
      "source": [
        "data_count.head()"
      ]
    },
    {
      "cell_type": "code",
      "execution_count": null,
      "id": "1a67c34d-305c-4cf5-9d03-6b7eb573a880",
      "metadata": {
        "id": "1a67c34d-305c-4cf5-9d03-6b7eb573a880",
        "outputId": "797842b7-e35e-498d-f389-2a5adf9c839d"
      },
      "outputs": [
        {
          "data": {
            "text/html": [
              "\n",
              "<div id=\"altair-viz-21d3c38c3e1544899177dadfe78a229e\"></div>\n",
              "<script type=\"text/javascript\">\n",
              "  (function(spec, embedOpt){\n",
              "    let outputDiv = document.currentScript.previousElementSibling;\n",
              "    if (outputDiv.id !== \"altair-viz-21d3c38c3e1544899177dadfe78a229e\") {\n",
              "      outputDiv = document.getElementById(\"altair-viz-21d3c38c3e1544899177dadfe78a229e\");\n",
              "    }\n",
              "    const paths = {\n",
              "      \"vega\": \"https://cdn.jsdelivr.net/npm//vega@5?noext\",\n",
              "      \"vega-lib\": \"https://cdn.jsdelivr.net/npm//vega-lib?noext\",\n",
              "      \"vega-lite\": \"https://cdn.jsdelivr.net/npm//vega-lite@4.8.1?noext\",\n",
              "      \"vega-embed\": \"https://cdn.jsdelivr.net/npm//vega-embed@6?noext\",\n",
              "    };\n",
              "\n",
              "    function loadScript(lib) {\n",
              "      return new Promise(function(resolve, reject) {\n",
              "        var s = document.createElement('script');\n",
              "        s.src = paths[lib];\n",
              "        s.async = true;\n",
              "        s.onload = () => resolve(paths[lib]);\n",
              "        s.onerror = () => reject(`Error loading script: ${paths[lib]}`);\n",
              "        document.getElementsByTagName(\"head\")[0].appendChild(s);\n",
              "      });\n",
              "    }\n",
              "\n",
              "    function showError(err) {\n",
              "      outputDiv.innerHTML = `<div class=\"error\" style=\"color:red;\">${err}</div>`;\n",
              "      throw err;\n",
              "    }\n",
              "\n",
              "    function displayChart(vegaEmbed) {\n",
              "      vegaEmbed(outputDiv, spec, embedOpt)\n",
              "        .catch(err => showError(`Javascript Error: ${err.message}<br>This usually means there's a typo in your chart specification. See the javascript console for the full traceback.`));\n",
              "    }\n",
              "\n",
              "    if(typeof define === \"function\" && define.amd) {\n",
              "      requirejs.config({paths});\n",
              "      require([\"vega-embed\"], displayChart, err => showError(`Error loading script: ${err.message}`));\n",
              "    } else if (typeof vegaEmbed === \"function\") {\n",
              "      displayChart(vegaEmbed);\n",
              "    } else {\n",
              "      loadScript(\"vega\")\n",
              "        .then(() => loadScript(\"vega-lite\"))\n",
              "        .then(() => loadScript(\"vega-embed\"))\n",
              "        .catch(showError)\n",
              "        .then(() => displayChart(vegaEmbed));\n",
              "    }\n",
              "  })({\"config\": {\"view\": {\"continuousWidth\": 400, \"continuousHeight\": 300}}, \"data\": {\"name\": \"data-4b258da0b049abdb4a925ee75c389021\"}, \"mark\": {\"type\": \"line\", \"size\": 3}, \"encoding\": {\"color\": {\"type\": \"ordinal\", \"field\": \"groupid\"}, \"tooltip\": [{\"type\": \"quantitative\", \"field\": \"userid\"}], \"x\": {\"type\": \"nominal\", \"field\": \"dt\"}, \"y\": {\"type\": \"quantitative\", \"field\": \"userid\"}}, \"height\": 400, \"width\": 600, \"$schema\": \"https://vega.github.io/schema/vega-lite/v4.8.1.json\", \"datasets\": {\"data-4b258da0b049abdb4a925ee75c389021\": [{\"groupid\": 0, \"dt\": \"2021-11-01\", \"userid\": 1497, \"ts\": 1497}, {\"groupid\": 0, \"dt\": \"2021-11-02\", \"userid\": 1467, \"ts\": 1467}, {\"groupid\": 0, \"dt\": \"2021-11-03\", \"userid\": 1532, \"ts\": 1532}, {\"groupid\": 0, \"dt\": \"2021-11-04\", \"userid\": 1509, \"ts\": 1509}, {\"groupid\": 0, \"dt\": \"2021-11-05\", \"userid\": 1503, \"ts\": 1503}, {\"groupid\": 0, \"dt\": \"2021-11-06\", \"userid\": 1510, \"ts\": 1510}, {\"groupid\": 0, \"dt\": \"2021-11-07\", \"userid\": 1505, \"ts\": 1505}, {\"groupid\": 0, \"dt\": \"2021-11-08\", \"userid\": 1517, \"ts\": 1517}, {\"groupid\": 0, \"dt\": \"2021-11-09\", \"userid\": 1541, \"ts\": 1541}, {\"groupid\": 0, \"dt\": \"2021-11-10\", \"userid\": 1505, \"ts\": 1505}, {\"groupid\": 0, \"dt\": \"2021-11-11\", \"userid\": 1495, \"ts\": 1495}, {\"groupid\": 0, \"dt\": \"2021-11-12\", \"userid\": 1464, \"ts\": 1464}, {\"groupid\": 0, \"dt\": \"2021-11-13\", \"userid\": 1455, \"ts\": 1455}, {\"groupid\": 0, \"dt\": \"2021-11-14\", \"userid\": 1495, \"ts\": 1495}, {\"groupid\": 0, \"dt\": \"2021-11-15\", \"userid\": 1513, \"ts\": 1513}, {\"groupid\": 0, \"dt\": \"2021-11-16\", \"userid\": 1436, \"ts\": 1436}, {\"groupid\": 0, \"dt\": \"2021-11-17\", \"userid\": 1490, \"ts\": 1490}, {\"groupid\": 0, \"dt\": \"2021-11-18\", \"userid\": 1517, \"ts\": 1517}, {\"groupid\": 0, \"dt\": \"2021-11-19\", \"userid\": 1496, \"ts\": 1496}, {\"groupid\": 0, \"dt\": \"2021-11-20\", \"userid\": 1504, \"ts\": 1504}, {\"groupid\": 1, \"dt\": \"2021-11-01\", \"userid\": 1504, \"ts\": 1504}, {\"groupid\": 1, \"dt\": \"2021-11-02\", \"userid\": 1464, \"ts\": 1464}, {\"groupid\": 1, \"dt\": \"2021-11-03\", \"userid\": 1510, \"ts\": 1510}, {\"groupid\": 1, \"dt\": \"2021-11-04\", \"userid\": 1507, \"ts\": 1507}, {\"groupid\": 1, \"dt\": \"2021-11-05\", \"userid\": 1519, \"ts\": 1519}, {\"groupid\": 1, \"dt\": \"2021-11-06\", \"userid\": 1538, \"ts\": 1538}, {\"groupid\": 1, \"dt\": \"2021-11-07\", \"userid\": 1516, \"ts\": 1516}, {\"groupid\": 1, \"dt\": \"2021-11-08\", \"userid\": 1443, \"ts\": 1443}, {\"groupid\": 1, \"dt\": \"2021-11-09\", \"userid\": 1454, \"ts\": 1454}, {\"groupid\": 1, \"dt\": \"2021-11-10\", \"userid\": 1506, \"ts\": 1506}, {\"groupid\": 1, \"dt\": \"2021-11-11\", \"userid\": 1477, \"ts\": 1477}, {\"groupid\": 1, \"dt\": \"2021-11-12\", \"userid\": 1532, \"ts\": 1532}, {\"groupid\": 1, \"dt\": \"2021-11-13\", \"userid\": 1522, \"ts\": 1522}, {\"groupid\": 1, \"dt\": \"2021-11-14\", \"userid\": 1482, \"ts\": 1482}, {\"groupid\": 1, \"dt\": \"2021-11-15\", \"userid\": 1524, \"ts\": 1524}, {\"groupid\": 1, \"dt\": \"2021-11-16\", \"userid\": 1509, \"ts\": 1509}, {\"groupid\": 1, \"dt\": \"2021-11-17\", \"userid\": 1462, \"ts\": 1462}, {\"groupid\": 1, \"dt\": \"2021-11-18\", \"userid\": 1529, \"ts\": 1529}, {\"groupid\": 1, \"dt\": \"2021-11-19\", \"userid\": 1494, \"ts\": 1494}, {\"groupid\": 1, \"dt\": \"2021-11-20\", \"userid\": 1557, \"ts\": 1557}]}}, {\"mode\": \"vega-lite\"});\n",
              "</script>"
            ],
            "text/plain": [
              "alt.Chart(...)"
            ]
          },
          "execution_count": 11,
          "metadata": {},
          "output_type": "execute_result"
        }
      ],
      "source": [
        "#How Assigments look like\n",
        "\n",
        "alt.Chart(data_count).mark_line(size=3).encode(\n",
        "    alt.X('dt'),\n",
        "    alt.Y('userid'),\n",
        "    color='groupid:O',\n",
        "    tooltip=['userid']\n",
        ").properties(\n",
        "    width=600,\n",
        "    height=400\n",
        ")\n",
        "\n",
        "#Uniformly distributed across all the dates of our test"
      ]
    },
    {
      "cell_type": "markdown",
      "id": "0f34e44e-d187-415e-a172-830da62ca29b",
      "metadata": {
        "id": "0f34e44e-d187-415e-a172-830da62ca29b"
      },
      "source": [
        "## Pre-test metrics"
      ]
    },
    {
      "cell_type": "markdown",
      "id": "04abdb7d-074b-4aed-a86b-677beb44ef37",
      "metadata": {
        "id": "04abdb7d-074b-4aed-a86b-677beb44ef37"
      },
      "source": [
        "### User activity"
      ]
    },
    {
      "cell_type": "code",
      "execution_count": null,
      "id": "ec950c0e-8a16-4fa6-a760-370828f2b379",
      "metadata": {
        "id": "ec950c0e-8a16-4fa6-a760-370828f2b379"
      },
      "outputs": [],
      "source": [
        "#Import a file with user activity\n",
        "\n",
        "data_act = pd.read_csv(\"data/activity_all.csv\")"
      ]
    },
    {
      "cell_type": "code",
      "execution_count": null,
      "id": "9ebf0779-4af9-4772-964e-76e306697fe7",
      "metadata": {
        "id": "9ebf0779-4af9-4772-964e-76e306697fe7",
        "outputId": "ae362c39-2deb-4e57-b015-9e9b90b313fe"
      },
      "outputs": [
        {
          "data": {
            "text/html": [
              "<div>\n",
              "<style scoped>\n",
              "    .dataframe tbody tr th:only-of-type {\n",
              "        vertical-align: middle;\n",
              "    }\n",
              "\n",
              "    .dataframe tbody tr th {\n",
              "        vertical-align: top;\n",
              "    }\n",
              "\n",
              "    .dataframe thead th {\n",
              "        text-align: right;\n",
              "    }\n",
              "</style>\n",
              "<table border=\"1\" class=\"dataframe\">\n",
              "  <thead>\n",
              "    <tr style=\"text-align: right;\">\n",
              "      <th></th>\n",
              "      <th>userid</th>\n",
              "      <th>dt</th>\n",
              "      <th>groupid</th>\n",
              "      <th>activity_level</th>\n",
              "    </tr>\n",
              "  </thead>\n",
              "  <tbody>\n",
              "    <tr>\n",
              "      <th>0</th>\n",
              "      <td>a5b70ae7-f07c-4773-9df4-ce112bc9dc48</td>\n",
              "      <td>2021-10-01</td>\n",
              "      <td>0</td>\n",
              "      <td>0</td>\n",
              "    </tr>\n",
              "    <tr>\n",
              "      <th>1</th>\n",
              "      <td>d2646662-269f-49de-aab1-8776afced9a3</td>\n",
              "      <td>2021-10-01</td>\n",
              "      <td>0</td>\n",
              "      <td>0</td>\n",
              "    </tr>\n",
              "    <tr>\n",
              "      <th>2</th>\n",
              "      <td>c4d1cfa8-283d-49ad-a894-90aedc39c798</td>\n",
              "      <td>2021-10-01</td>\n",
              "      <td>1</td>\n",
              "      <td>0</td>\n",
              "    </tr>\n",
              "    <tr>\n",
              "      <th>3</th>\n",
              "      <td>6889f87f-5356-4904-a35a-6ea5020011db</td>\n",
              "      <td>2021-10-01</td>\n",
              "      <td>0</td>\n",
              "      <td>0</td>\n",
              "    </tr>\n",
              "    <tr>\n",
              "      <th>4</th>\n",
              "      <td>dbee604c-474a-4c9d-b013-508e5a0e3059</td>\n",
              "      <td>2021-10-01</td>\n",
              "      <td>1</td>\n",
              "      <td>0</td>\n",
              "    </tr>\n",
              "  </tbody>\n",
              "</table>\n",
              "</div>"
            ],
            "text/plain": [
              "                                 userid          dt  groupid  activity_level\n",
              "0  a5b70ae7-f07c-4773-9df4-ce112bc9dc48  2021-10-01        0               0\n",
              "1  d2646662-269f-49de-aab1-8776afced9a3  2021-10-01        0               0\n",
              "2  c4d1cfa8-283d-49ad-a894-90aedc39c798  2021-10-01        1               0\n",
              "3  6889f87f-5356-4904-a35a-6ea5020011db  2021-10-01        0               0\n",
              "4  dbee604c-474a-4c9d-b013-508e5a0e3059  2021-10-01        1               0"
            ]
          },
          "execution_count": 13,
          "metadata": {},
          "output_type": "execute_result"
        }
      ],
      "source": [
        "data_act.head()"
      ]
    },
    {
      "cell_type": "code",
      "execution_count": null,
      "id": "a1b7f460-ac2b-4e8c-8b76-2959277be369",
      "metadata": {
        "id": "a1b7f460-ac2b-4e8c-8b76-2959277be369",
        "outputId": "5e9e22c9-6bad-491a-932b-f9ebbd6a08f8"
      },
      "outputs": [
        {
          "data": {
            "text/html": [
              "<div>\n",
              "<style scoped>\n",
              "    .dataframe tbody tr th:only-of-type {\n",
              "        vertical-align: middle;\n",
              "    }\n",
              "\n",
              "    .dataframe tbody tr th {\n",
              "        vertical-align: top;\n",
              "    }\n",
              "\n",
              "    .dataframe thead tr th {\n",
              "        text-align: left;\n",
              "    }\n",
              "\n",
              "    .dataframe thead tr:last-of-type th {\n",
              "        text-align: right;\n",
              "    }\n",
              "</style>\n",
              "<table border=\"1\" class=\"dataframe\">\n",
              "  <thead>\n",
              "    <tr>\n",
              "      <th></th>\n",
              "      <th></th>\n",
              "      <th colspan=\"8\" halign=\"left\">activity_level</th>\n",
              "    </tr>\n",
              "    <tr>\n",
              "      <th></th>\n",
              "      <th></th>\n",
              "      <th>count</th>\n",
              "      <th>mean</th>\n",
              "      <th>std</th>\n",
              "      <th>min</th>\n",
              "      <th>25%</th>\n",
              "      <th>50%</th>\n",
              "      <th>75%</th>\n",
              "      <th>max</th>\n",
              "    </tr>\n",
              "    <tr>\n",
              "      <th>groupid</th>\n",
              "      <th>dt</th>\n",
              "      <th></th>\n",
              "      <th></th>\n",
              "      <th></th>\n",
              "      <th></th>\n",
              "      <th></th>\n",
              "      <th></th>\n",
              "      <th></th>\n",
              "      <th></th>\n",
              "    </tr>\n",
              "  </thead>\n",
              "  <tbody>\n",
              "    <tr>\n",
              "      <th rowspan=\"5\" valign=\"top\">0</th>\n",
              "      <th>2021-10-01</th>\n",
              "      <td>29951.0</td>\n",
              "      <td>5.241762</td>\n",
              "      <td>6.516640</td>\n",
              "      <td>0.0</td>\n",
              "      <td>0.0</td>\n",
              "      <td>1.0</td>\n",
              "      <td>10.0</td>\n",
              "      <td>20.0</td>\n",
              "    </tr>\n",
              "    <tr>\n",
              "      <th>2021-10-02</th>\n",
              "      <td>29951.0</td>\n",
              "      <td>5.255885</td>\n",
              "      <td>6.509838</td>\n",
              "      <td>0.0</td>\n",
              "      <td>0.0</td>\n",
              "      <td>1.0</td>\n",
              "      <td>10.0</td>\n",
              "      <td>20.0</td>\n",
              "    </tr>\n",
              "    <tr>\n",
              "      <th>2021-10-03</th>\n",
              "      <td>29951.0</td>\n",
              "      <td>5.266068</td>\n",
              "      <td>6.511458</td>\n",
              "      <td>0.0</td>\n",
              "      <td>0.0</td>\n",
              "      <td>1.0</td>\n",
              "      <td>10.0</td>\n",
              "      <td>20.0</td>\n",
              "    </tr>\n",
              "    <tr>\n",
              "      <th>2021-10-04</th>\n",
              "      <td>29951.0</td>\n",
              "      <td>5.212447</td>\n",
              "      <td>6.511711</td>\n",
              "      <td>0.0</td>\n",
              "      <td>0.0</td>\n",
              "      <td>1.0</td>\n",
              "      <td>10.0</td>\n",
              "      <td>20.0</td>\n",
              "    </tr>\n",
              "    <tr>\n",
              "      <th>2021-10-05</th>\n",
              "      <td>29951.0</td>\n",
              "      <td>5.177590</td>\n",
              "      <td>6.512791</td>\n",
              "      <td>0.0</td>\n",
              "      <td>0.0</td>\n",
              "      <td>1.0</td>\n",
              "      <td>10.0</td>\n",
              "      <td>20.0</td>\n",
              "    </tr>\n",
              "    <tr>\n",
              "      <th>...</th>\n",
              "      <th>...</th>\n",
              "      <td>...</td>\n",
              "      <td>...</td>\n",
              "      <td>...</td>\n",
              "      <td>...</td>\n",
              "      <td>...</td>\n",
              "      <td>...</td>\n",
              "      <td>...</td>\n",
              "      <td>...</td>\n",
              "    </tr>\n",
              "    <tr>\n",
              "      <th rowspan=\"5\" valign=\"top\">1</th>\n",
              "      <th>2021-11-26</th>\n",
              "      <td>30049.0</td>\n",
              "      <td>10.031216</td>\n",
              "      <td>5.770582</td>\n",
              "      <td>0.0</td>\n",
              "      <td>5.0</td>\n",
              "      <td>10.0</td>\n",
              "      <td>15.0</td>\n",
              "      <td>20.0</td>\n",
              "    </tr>\n",
              "    <tr>\n",
              "      <th>2021-11-27</th>\n",
              "      <td>30049.0</td>\n",
              "      <td>10.026024</td>\n",
              "      <td>5.774141</td>\n",
              "      <td>0.0</td>\n",
              "      <td>5.0</td>\n",
              "      <td>10.0</td>\n",
              "      <td>15.0</td>\n",
              "      <td>20.0</td>\n",
              "    </tr>\n",
              "    <tr>\n",
              "      <th>2021-11-28</th>\n",
              "      <td>30049.0</td>\n",
              "      <td>9.975307</td>\n",
              "      <td>5.788257</td>\n",
              "      <td>0.0</td>\n",
              "      <td>5.0</td>\n",
              "      <td>10.0</td>\n",
              "      <td>15.0</td>\n",
              "      <td>20.0</td>\n",
              "    </tr>\n",
              "    <tr>\n",
              "      <th>2021-11-29</th>\n",
              "      <td>30049.0</td>\n",
              "      <td>9.970781</td>\n",
              "      <td>5.799546</td>\n",
              "      <td>0.0</td>\n",
              "      <td>5.0</td>\n",
              "      <td>10.0</td>\n",
              "      <td>15.0</td>\n",
              "      <td>20.0</td>\n",
              "    </tr>\n",
              "    <tr>\n",
              "      <th>2021-11-30</th>\n",
              "      <td>30049.0</td>\n",
              "      <td>9.963926</td>\n",
              "      <td>5.764812</td>\n",
              "      <td>0.0</td>\n",
              "      <td>5.0</td>\n",
              "      <td>10.0</td>\n",
              "      <td>15.0</td>\n",
              "      <td>20.0</td>\n",
              "    </tr>\n",
              "  </tbody>\n",
              "</table>\n",
              "<p>122 rows × 8 columns</p>\n",
              "</div>"
            ],
            "text/plain": [
              "                   activity_level                                             \\\n",
              "                            count       mean       std  min  25%   50%   75%   \n",
              "groupid dt                                                                     \n",
              "0       2021-10-01        29951.0   5.241762  6.516640  0.0  0.0   1.0  10.0   \n",
              "        2021-10-02        29951.0   5.255885  6.509838  0.0  0.0   1.0  10.0   \n",
              "        2021-10-03        29951.0   5.266068  6.511458  0.0  0.0   1.0  10.0   \n",
              "        2021-10-04        29951.0   5.212447  6.511711  0.0  0.0   1.0  10.0   \n",
              "        2021-10-05        29951.0   5.177590  6.512791  0.0  0.0   1.0  10.0   \n",
              "...                           ...        ...       ...  ...  ...   ...   ...   \n",
              "1       2021-11-26        30049.0  10.031216  5.770582  0.0  5.0  10.0  15.0   \n",
              "        2021-11-27        30049.0  10.026024  5.774141  0.0  5.0  10.0  15.0   \n",
              "        2021-11-28        30049.0   9.975307  5.788257  0.0  5.0  10.0  15.0   \n",
              "        2021-11-29        30049.0   9.970781  5.799546  0.0  5.0  10.0  15.0   \n",
              "        2021-11-30        30049.0   9.963926  5.764812  0.0  5.0  10.0  15.0   \n",
              "\n",
              "                          \n",
              "                     max  \n",
              "groupid dt                \n",
              "0       2021-10-01  20.0  \n",
              "        2021-10-02  20.0  \n",
              "        2021-10-03  20.0  \n",
              "        2021-10-04  20.0  \n",
              "        2021-10-05  20.0  \n",
              "...                  ...  \n",
              "1       2021-11-26  20.0  \n",
              "        2021-11-27  20.0  \n",
              "        2021-11-28  20.0  \n",
              "        2021-11-29  20.0  \n",
              "        2021-11-30  20.0  \n",
              "\n",
              "[122 rows x 8 columns]"
            ]
          },
          "execution_count": 14,
          "metadata": {},
          "output_type": "execute_result"
        }
      ],
      "source": [
        "data_act.groupby(['groupid','dt']).describe()\n",
        "\n",
        "#Average activity level of the user was around 5 times a day in the control group and around 10 times a day in the test group"
      ]
    },
    {
      "cell_type": "code",
      "execution_count": null,
      "id": "e8b6623d-52ae-4dc0-b408-e7cb89fce5da",
      "metadata": {
        "id": "e8b6623d-52ae-4dc0-b408-e7cb89fce5da",
        "outputId": "d3908f83-a389-4689-a2d5-b37f5d8d4e8a"
      },
      "outputs": [
        {
          "data": {
            "text/html": [
              "<div>\n",
              "<style scoped>\n",
              "    .dataframe tbody tr th:only-of-type {\n",
              "        vertical-align: middle;\n",
              "    }\n",
              "\n",
              "    .dataframe tbody tr th {\n",
              "        vertical-align: top;\n",
              "    }\n",
              "\n",
              "    .dataframe thead th {\n",
              "        text-align: right;\n",
              "    }\n",
              "</style>\n",
              "<table border=\"1\" class=\"dataframe\">\n",
              "  <thead>\n",
              "    <tr style=\"text-align: right;\">\n",
              "      <th></th>\n",
              "      <th>dt</th>\n",
              "      <th>groupid</th>\n",
              "      <th>userid</th>\n",
              "      <th>activity_level</th>\n",
              "    </tr>\n",
              "  </thead>\n",
              "  <tbody>\n",
              "    <tr>\n",
              "      <th>0</th>\n",
              "      <td>2021-10-01</td>\n",
              "      <td>0</td>\n",
              "      <td>15337</td>\n",
              "      <td>15337</td>\n",
              "    </tr>\n",
              "    <tr>\n",
              "      <th>1</th>\n",
              "      <td>2021-10-01</td>\n",
              "      <td>1</td>\n",
              "      <td>15297</td>\n",
              "      <td>15297</td>\n",
              "    </tr>\n",
              "    <tr>\n",
              "      <th>2</th>\n",
              "      <td>2021-10-02</td>\n",
              "      <td>0</td>\n",
              "      <td>15354</td>\n",
              "      <td>15354</td>\n",
              "    </tr>\n",
              "    <tr>\n",
              "      <th>3</th>\n",
              "      <td>2021-10-02</td>\n",
              "      <td>1</td>\n",
              "      <td>15421</td>\n",
              "      <td>15421</td>\n",
              "    </tr>\n",
              "    <tr>\n",
              "      <th>4</th>\n",
              "      <td>2021-10-03</td>\n",
              "      <td>0</td>\n",
              "      <td>15423</td>\n",
              "      <td>15423</td>\n",
              "    </tr>\n",
              "  </tbody>\n",
              "</table>\n",
              "</div>"
            ],
            "text/plain": [
              "           dt  groupid  userid  activity_level\n",
              "0  2021-10-01        0   15337           15337\n",
              "1  2021-10-01        1   15297           15297\n",
              "2  2021-10-02        0   15354           15354\n",
              "3  2021-10-02        1   15421           15421\n",
              "4  2021-10-03        0   15423           15423"
            ]
          },
          "execution_count": 15,
          "metadata": {},
          "output_type": "execute_result"
        }
      ],
      "source": [
        "#How many users during a day had an activity level of over than zero\n",
        "\n",
        "data_act.query('activity_level > 0').groupby(['dt', 'groupid']).count().reset_index().head()"
      ]
    },
    {
      "cell_type": "code",
      "execution_count": null,
      "id": "f0140d32-1ab7-4d9c-80bf-0b5aa2805123",
      "metadata": {
        "id": "f0140d32-1ab7-4d9c-80bf-0b5aa2805123",
        "outputId": "2b0d8c67-fc85-4604-bee3-15fd1e8dfcfc"
      },
      "outputs": [
        {
          "data": {
            "text/html": [
              "\n",
              "<div id=\"altair-viz-d92542aa96d94f5eb666eb34631390a8\"></div>\n",
              "<script type=\"text/javascript\">\n",
              "  (function(spec, embedOpt){\n",
              "    let outputDiv = document.currentScript.previousElementSibling;\n",
              "    if (outputDiv.id !== \"altair-viz-d92542aa96d94f5eb666eb34631390a8\") {\n",
              "      outputDiv = document.getElementById(\"altair-viz-d92542aa96d94f5eb666eb34631390a8\");\n",
              "    }\n",
              "    const paths = {\n",
              "      \"vega\": \"https://cdn.jsdelivr.net/npm//vega@5?noext\",\n",
              "      \"vega-lib\": \"https://cdn.jsdelivr.net/npm//vega-lib?noext\",\n",
              "      \"vega-lite\": \"https://cdn.jsdelivr.net/npm//vega-lite@4.8.1?noext\",\n",
              "      \"vega-embed\": \"https://cdn.jsdelivr.net/npm//vega-embed@6?noext\",\n",
              "    };\n",
              "\n",
              "    function loadScript(lib) {\n",
              "      return new Promise(function(resolve, reject) {\n",
              "        var s = document.createElement('script');\n",
              "        s.src = paths[lib];\n",
              "        s.async = true;\n",
              "        s.onload = () => resolve(paths[lib]);\n",
              "        s.onerror = () => reject(`Error loading script: ${paths[lib]}`);\n",
              "        document.getElementsByTagName(\"head\")[0].appendChild(s);\n",
              "      });\n",
              "    }\n",
              "\n",
              "    function showError(err) {\n",
              "      outputDiv.innerHTML = `<div class=\"error\" style=\"color:red;\">${err}</div>`;\n",
              "      throw err;\n",
              "    }\n",
              "\n",
              "    function displayChart(vegaEmbed) {\n",
              "      vegaEmbed(outputDiv, spec, embedOpt)\n",
              "        .catch(err => showError(`Javascript Error: ${err.message}<br>This usually means there's a typo in your chart specification. See the javascript console for the full traceback.`));\n",
              "    }\n",
              "\n",
              "    if(typeof define === \"function\" && define.amd) {\n",
              "      requirejs.config({paths});\n",
              "      require([\"vega-embed\"], displayChart, err => showError(`Error loading script: ${err.message}`));\n",
              "    } else if (typeof vegaEmbed === \"function\") {\n",
              "      displayChart(vegaEmbed);\n",
              "    } else {\n",
              "      loadScript(\"vega\")\n",
              "        .then(() => loadScript(\"vega-lite\"))\n",
              "        .then(() => loadScript(\"vega-embed\"))\n",
              "        .catch(showError)\n",
              "        .then(() => displayChart(vegaEmbed));\n",
              "    }\n",
              "  })({\"config\": {\"view\": {\"continuousWidth\": 400, \"continuousHeight\": 300}}, \"data\": {\"name\": \"data-394a1331192842b66704340d6621c3c8\"}, \"mark\": {\"type\": \"line\", \"size\": 3}, \"encoding\": {\"color\": {\"type\": \"ordinal\", \"field\": \"groupid\"}, \"tooltip\": [{\"type\": \"quantitative\", \"field\": \"userid\"}], \"x\": {\"type\": \"nominal\", \"field\": \"dt\"}, \"y\": {\"type\": \"quantitative\", \"field\": \"userid\"}}, \"height\": 400, \"width\": 600, \"$schema\": \"https://vega.github.io/schema/vega-lite/v4.8.1.json\", \"datasets\": {\"data-394a1331192842b66704340d6621c3c8\": [{\"dt\": \"2021-10-01\", \"groupid\": 0, \"userid\": 15337, \"activity_level\": 15337}, {\"dt\": \"2021-10-01\", \"groupid\": 1, \"userid\": 15297, \"activity_level\": 15297}, {\"dt\": \"2021-10-02\", \"groupid\": 0, \"userid\": 15354, \"activity_level\": 15354}, {\"dt\": \"2021-10-02\", \"groupid\": 1, \"userid\": 15421, \"activity_level\": 15421}, {\"dt\": \"2021-10-03\", \"groupid\": 0, \"userid\": 15423, \"activity_level\": 15423}, {\"dt\": \"2021-10-03\", \"groupid\": 1, \"userid\": 15362, \"activity_level\": 15362}, {\"dt\": \"2021-10-04\", \"groupid\": 0, \"userid\": 15211, \"activity_level\": 15211}, {\"dt\": \"2021-10-04\", \"groupid\": 1, \"userid\": 15388, \"activity_level\": 15388}, {\"dt\": \"2021-10-05\", \"groupid\": 0, \"userid\": 15126, \"activity_level\": 15126}, {\"dt\": \"2021-10-05\", \"groupid\": 1, \"userid\": 15462, \"activity_level\": 15462}, {\"dt\": \"2021-10-06\", \"groupid\": 0, \"userid\": 15335, \"activity_level\": 15335}, {\"dt\": \"2021-10-06\", \"groupid\": 1, \"userid\": 15304, \"activity_level\": 15304}, {\"dt\": \"2021-10-07\", \"groupid\": 0, \"userid\": 15346, \"activity_level\": 15346}, {\"dt\": \"2021-10-07\", \"groupid\": 1, \"userid\": 15291, \"activity_level\": 15291}, {\"dt\": \"2021-10-08\", \"groupid\": 0, \"userid\": 15357, \"activity_level\": 15357}, {\"dt\": \"2021-10-08\", \"groupid\": 1, \"userid\": 15243, \"activity_level\": 15243}, {\"dt\": \"2021-10-09\", \"groupid\": 0, \"userid\": 15371, \"activity_level\": 15371}, {\"dt\": \"2021-10-09\", \"groupid\": 1, \"userid\": 15531, \"activity_level\": 15531}, {\"dt\": \"2021-10-10\", \"groupid\": 0, \"userid\": 15277, \"activity_level\": 15277}, {\"dt\": \"2021-10-10\", \"groupid\": 1, \"userid\": 15304, \"activity_level\": 15304}, {\"dt\": \"2021-10-11\", \"groupid\": 0, \"userid\": 15226, \"activity_level\": 15226}, {\"dt\": \"2021-10-11\", \"groupid\": 1, \"userid\": 15263, \"activity_level\": 15263}, {\"dt\": \"2021-10-12\", \"groupid\": 0, \"userid\": 15290, \"activity_level\": 15290}, {\"dt\": \"2021-10-12\", \"groupid\": 1, \"userid\": 15425, \"activity_level\": 15425}, {\"dt\": \"2021-10-13\", \"groupid\": 0, \"userid\": 15334, \"activity_level\": 15334}, {\"dt\": \"2021-10-13\", \"groupid\": 1, \"userid\": 15427, \"activity_level\": 15427}, {\"dt\": \"2021-10-14\", \"groupid\": 0, \"userid\": 15295, \"activity_level\": 15295}, {\"dt\": \"2021-10-14\", \"groupid\": 1, \"userid\": 15421, \"activity_level\": 15421}, {\"dt\": \"2021-10-15\", \"groupid\": 0, \"userid\": 15277, \"activity_level\": 15277}, {\"dt\": \"2021-10-15\", \"groupid\": 1, \"userid\": 15360, \"activity_level\": 15360}, {\"dt\": \"2021-10-16\", \"groupid\": 0, \"userid\": 15348, \"activity_level\": 15348}, {\"dt\": \"2021-10-16\", \"groupid\": 1, \"userid\": 15360, \"activity_level\": 15360}, {\"dt\": \"2021-10-17\", \"groupid\": 0, \"userid\": 15430, \"activity_level\": 15430}, {\"dt\": \"2021-10-17\", \"groupid\": 1, \"userid\": 15311, \"activity_level\": 15311}, {\"dt\": \"2021-10-18\", \"groupid\": 0, \"userid\": 15244, \"activity_level\": 15244}, {\"dt\": \"2021-10-18\", \"groupid\": 1, \"userid\": 15450, \"activity_level\": 15450}, {\"dt\": \"2021-10-19\", \"groupid\": 0, \"userid\": 15303, \"activity_level\": 15303}, {\"dt\": \"2021-10-19\", \"groupid\": 1, \"userid\": 15284, \"activity_level\": 15284}, {\"dt\": \"2021-10-20\", \"groupid\": 0, \"userid\": 15382, \"activity_level\": 15382}, {\"dt\": \"2021-10-20\", \"groupid\": 1, \"userid\": 15413, \"activity_level\": 15413}, {\"dt\": \"2021-10-21\", \"groupid\": 0, \"userid\": 15431, \"activity_level\": 15431}, {\"dt\": \"2021-10-21\", \"groupid\": 1, \"userid\": 15274, \"activity_level\": 15274}, {\"dt\": \"2021-10-22\", \"groupid\": 0, \"userid\": 15356, \"activity_level\": 15356}, {\"dt\": \"2021-10-22\", \"groupid\": 1, \"userid\": 15217, \"activity_level\": 15217}, {\"dt\": \"2021-10-23\", \"groupid\": 0, \"userid\": 15151, \"activity_level\": 15151}, {\"dt\": \"2021-10-23\", \"groupid\": 1, \"userid\": 15494, \"activity_level\": 15494}, {\"dt\": \"2021-10-24\", \"groupid\": 0, \"userid\": 15512, \"activity_level\": 15512}, {\"dt\": \"2021-10-24\", \"groupid\": 1, \"userid\": 15303, \"activity_level\": 15303}, {\"dt\": \"2021-10-25\", \"groupid\": 0, \"userid\": 15351, \"activity_level\": 15351}, {\"dt\": \"2021-10-25\", \"groupid\": 1, \"userid\": 15265, \"activity_level\": 15265}, {\"dt\": \"2021-10-26\", \"groupid\": 0, \"userid\": 15280, \"activity_level\": 15280}, {\"dt\": \"2021-10-26\", \"groupid\": 1, \"userid\": 15393, \"activity_level\": 15393}, {\"dt\": \"2021-10-27\", \"groupid\": 0, \"userid\": 15459, \"activity_level\": 15459}, {\"dt\": \"2021-10-27\", \"groupid\": 1, \"userid\": 15202, \"activity_level\": 15202}, {\"dt\": \"2021-10-28\", \"groupid\": 0, \"userid\": 15434, \"activity_level\": 15434}, {\"dt\": \"2021-10-28\", \"groupid\": 1, \"userid\": 15300, \"activity_level\": 15300}, {\"dt\": \"2021-10-29\", \"groupid\": 0, \"userid\": 15214, \"activity_level\": 15214}, {\"dt\": \"2021-10-29\", \"groupid\": 1, \"userid\": 15509, \"activity_level\": 15509}, {\"dt\": \"2021-10-30\", \"groupid\": 0, \"userid\": 15285, \"activity_level\": 15285}, {\"dt\": \"2021-10-30\", \"groupid\": 1, \"userid\": 15343, \"activity_level\": 15343}, {\"dt\": \"2021-10-31\", \"groupid\": 0, \"userid\": 15208, \"activity_level\": 15208}, {\"dt\": \"2021-10-31\", \"groupid\": 1, \"userid\": 15311, \"activity_level\": 15311}, {\"dt\": \"2021-11-01\", \"groupid\": 0, \"userid\": 15989, \"activity_level\": 15989}, {\"dt\": \"2021-11-01\", \"groupid\": 1, \"userid\": 29318, \"activity_level\": 29318}, {\"dt\": \"2021-11-02\", \"groupid\": 0, \"userid\": 16024, \"activity_level\": 16024}, {\"dt\": \"2021-11-02\", \"groupid\": 1, \"userid\": 29289, \"activity_level\": 29289}, {\"dt\": \"2021-11-03\", \"groupid\": 0, \"userid\": 16049, \"activity_level\": 16049}, {\"dt\": \"2021-11-03\", \"groupid\": 1, \"userid\": 29306, \"activity_level\": 29306}, {\"dt\": \"2021-11-04\", \"groupid\": 0, \"userid\": 16040, \"activity_level\": 16040}, {\"dt\": \"2021-11-04\", \"groupid\": 1, \"userid\": 29267, \"activity_level\": 29267}, {\"dt\": \"2021-11-05\", \"groupid\": 0, \"userid\": 16045, \"activity_level\": 16045}, {\"dt\": \"2021-11-05\", \"groupid\": 1, \"userid\": 29336, \"activity_level\": 29336}, {\"dt\": \"2021-11-06\", \"groupid\": 0, \"userid\": 15991, \"activity_level\": 15991}, {\"dt\": \"2021-11-06\", \"groupid\": 1, \"userid\": 29306, \"activity_level\": 29306}, {\"dt\": \"2021-11-07\", \"groupid\": 0, \"userid\": 16133, \"activity_level\": 16133}, {\"dt\": \"2021-11-07\", \"groupid\": 1, \"userid\": 29255, \"activity_level\": 29255}, {\"dt\": \"2021-11-08\", \"groupid\": 0, \"userid\": 16119, \"activity_level\": 16119}, {\"dt\": \"2021-11-08\", \"groupid\": 1, \"userid\": 29263, \"activity_level\": 29263}, {\"dt\": \"2021-11-09\", \"groupid\": 0, \"userid\": 15953, \"activity_level\": 15953}, {\"dt\": \"2021-11-09\", \"groupid\": 1, \"userid\": 29286, \"activity_level\": 29286}, {\"dt\": \"2021-11-10\", \"groupid\": 0, \"userid\": 15990, \"activity_level\": 15990}, {\"dt\": \"2021-11-10\", \"groupid\": 1, \"userid\": 29340, \"activity_level\": 29340}, {\"dt\": \"2021-11-11\", \"groupid\": 0, \"userid\": 16045, \"activity_level\": 16045}, {\"dt\": \"2021-11-11\", \"groupid\": 1, \"userid\": 29349, \"activity_level\": 29349}, {\"dt\": \"2021-11-12\", \"groupid\": 0, \"userid\": 15859, \"activity_level\": 15859}, {\"dt\": \"2021-11-12\", \"groupid\": 1, \"userid\": 29278, \"activity_level\": 29278}, {\"dt\": \"2021-11-13\", \"groupid\": 0, \"userid\": 15973, \"activity_level\": 15973}, {\"dt\": \"2021-11-13\", \"groupid\": 1, \"userid\": 29258, \"activity_level\": 29258}, {\"dt\": \"2021-11-14\", \"groupid\": 0, \"userid\": 16016, \"activity_level\": 16016}, {\"dt\": \"2021-11-14\", \"groupid\": 1, \"userid\": 29322, \"activity_level\": 29322}, {\"dt\": \"2021-11-15\", \"groupid\": 0, \"userid\": 16112, \"activity_level\": 16112}, {\"dt\": \"2021-11-15\", \"groupid\": 1, \"userid\": 29337, \"activity_level\": 29337}, {\"dt\": \"2021-11-16\", \"groupid\": 0, \"userid\": 16147, \"activity_level\": 16147}, {\"dt\": \"2021-11-16\", \"groupid\": 1, \"userid\": 29300, \"activity_level\": 29300}, {\"dt\": \"2021-11-17\", \"groupid\": 0, \"userid\": 16015, \"activity_level\": 16015}, {\"dt\": \"2021-11-17\", \"groupid\": 1, \"userid\": 29296, \"activity_level\": 29296}, {\"dt\": \"2021-11-18\", \"groupid\": 0, \"userid\": 16007, \"activity_level\": 16007}, {\"dt\": \"2021-11-18\", \"groupid\": 1, \"userid\": 29274, \"activity_level\": 29274}, {\"dt\": \"2021-11-19\", \"groupid\": 0, \"userid\": 16104, \"activity_level\": 16104}, {\"dt\": \"2021-11-19\", \"groupid\": 1, \"userid\": 29292, \"activity_level\": 29292}, {\"dt\": \"2021-11-20\", \"groupid\": 0, \"userid\": 16090, \"activity_level\": 16090}, {\"dt\": \"2021-11-20\", \"groupid\": 1, \"userid\": 29329, \"activity_level\": 29329}, {\"dt\": \"2021-11-21\", \"groupid\": 0, \"userid\": 15294, \"activity_level\": 15294}, {\"dt\": \"2021-11-21\", \"groupid\": 1, \"userid\": 29309, \"activity_level\": 29309}, {\"dt\": \"2021-11-22\", \"groupid\": 0, \"userid\": 15207, \"activity_level\": 15207}, {\"dt\": \"2021-11-22\", \"groupid\": 1, \"userid\": 29278, \"activity_level\": 29278}, {\"dt\": \"2021-11-23\", \"groupid\": 0, \"userid\": 15424, \"activity_level\": 15424}, {\"dt\": \"2021-11-23\", \"groupid\": 1, \"userid\": 29300, \"activity_level\": 29300}, {\"dt\": \"2021-11-24\", \"groupid\": 0, \"userid\": 15328, \"activity_level\": 15328}, {\"dt\": \"2021-11-24\", \"groupid\": 1, \"userid\": 29287, \"activity_level\": 29287}, {\"dt\": \"2021-11-25\", \"groupid\": 0, \"userid\": 15163, \"activity_level\": 15163}, {\"dt\": \"2021-11-25\", \"groupid\": 1, \"userid\": 29301, \"activity_level\": 29301}, {\"dt\": \"2021-11-26\", \"groupid\": 0, \"userid\": 15226, \"activity_level\": 15226}, {\"dt\": \"2021-11-26\", \"groupid\": 1, \"userid\": 29303, \"activity_level\": 29303}, {\"dt\": \"2021-11-27\", \"groupid\": 0, \"userid\": 15286, \"activity_level\": 15286}, {\"dt\": \"2021-11-27\", \"groupid\": 1, \"userid\": 29350, \"activity_level\": 29350}, {\"dt\": \"2021-11-28\", \"groupid\": 0, \"userid\": 15283, \"activity_level\": 15283}, {\"dt\": \"2021-11-28\", \"groupid\": 1, \"userid\": 29273, \"activity_level\": 29273}, {\"dt\": \"2021-11-29\", \"groupid\": 0, \"userid\": 15356, \"activity_level\": 15356}, {\"dt\": \"2021-11-29\", \"groupid\": 1, \"userid\": 29289, \"activity_level\": 29289}, {\"dt\": \"2021-11-30\", \"groupid\": 0, \"userid\": 15192, \"activity_level\": 15192}, {\"dt\": \"2021-11-30\", \"groupid\": 1, \"userid\": 29382, \"activity_level\": 29382}]}}, {\"mode\": \"vega-lite\"});\n",
              "</script>"
            ],
            "text/plain": [
              "alt.Chart(...)"
            ]
          },
          "execution_count": 16,
          "metadata": {},
          "output_type": "execute_result"
        }
      ],
      "source": [
        "alt.Chart(data_act.query('activity_level > 0').groupby(['dt', 'groupid']).count().reset_index()).mark_line(size=3).encode(\n",
        "    alt.X('dt'),\n",
        "    alt.Y('userid'),\n",
        "    color='groupid:O',\n",
        "    tooltip=['userid']\n",
        ").properties(\n",
        "    width=600,\n",
        "    height=400\n",
        ")"
      ]
    },
    {
      "cell_type": "code",
      "execution_count": null,
      "id": "f8f821a4-0c02-4b5b-9385-d9041dfdeb2f",
      "metadata": {
        "id": "f8f821a4-0c02-4b5b-9385-d9041dfdeb2f",
        "outputId": "c7bcbc00-6c39-4252-a267-4c0e4185dff2"
      },
      "outputs": [
        {
          "data": {
            "text/html": [
              "<div>\n",
              "<style scoped>\n",
              "    .dataframe tbody tr th:only-of-type {\n",
              "        vertical-align: middle;\n",
              "    }\n",
              "\n",
              "    .dataframe tbody tr th {\n",
              "        vertical-align: top;\n",
              "    }\n",
              "\n",
              "    .dataframe thead th {\n",
              "        text-align: right;\n",
              "    }\n",
              "</style>\n",
              "<table border=\"1\" class=\"dataframe\">\n",
              "  <thead>\n",
              "    <tr style=\"text-align: right;\">\n",
              "      <th></th>\n",
              "      <th>groupid</th>\n",
              "      <th>activity_level</th>\n",
              "    </tr>\n",
              "  </thead>\n",
              "  <tbody>\n",
              "    <tr>\n",
              "      <th>count</th>\n",
              "      <td>30.0</td>\n",
              "      <td>30.000000</td>\n",
              "    </tr>\n",
              "    <tr>\n",
              "      <th>mean</th>\n",
              "      <td>0.0</td>\n",
              "      <td>15782.000000</td>\n",
              "    </tr>\n",
              "    <tr>\n",
              "      <th>std</th>\n",
              "      <td>0.0</td>\n",
              "      <td>371.077276</td>\n",
              "    </tr>\n",
              "    <tr>\n",
              "      <th>min</th>\n",
              "      <td>0.0</td>\n",
              "      <td>15163.000000</td>\n",
              "    </tr>\n",
              "    <tr>\n",
              "      <th>25%</th>\n",
              "      <td>0.0</td>\n",
              "      <td>15335.000000</td>\n",
              "    </tr>\n",
              "    <tr>\n",
              "      <th>50%</th>\n",
              "      <td>0.0</td>\n",
              "      <td>15990.500000</td>\n",
              "    </tr>\n",
              "    <tr>\n",
              "      <th>75%</th>\n",
              "      <td>0.0</td>\n",
              "      <td>16045.000000</td>\n",
              "    </tr>\n",
              "    <tr>\n",
              "      <th>max</th>\n",
              "      <td>0.0</td>\n",
              "      <td>16147.000000</td>\n",
              "    </tr>\n",
              "  </tbody>\n",
              "</table>\n",
              "</div>"
            ],
            "text/plain": [
              "       groupid  activity_level\n",
              "count     30.0       30.000000\n",
              "mean       0.0    15782.000000\n",
              "std        0.0      371.077276\n",
              "min        0.0    15163.000000\n",
              "25%        0.0    15335.000000\n",
              "50%        0.0    15990.500000\n",
              "75%        0.0    16045.000000\n",
              "max        0.0    16147.000000"
            ]
          },
          "execution_count": 19,
          "metadata": {},
          "output_type": "execute_result"
        }
      ],
      "source": [
        "#Control group\n",
        "\n",
        "(\n",
        "    data_act.query('activity_level > 0 and groupid == 0 and dt >= \"2021-11-01\"')\n",
        "    .groupby(['dt','groupid']).count().reset_index()[['groupid','activity_level']].describe()\n",
        ")"
      ]
    },
    {
      "cell_type": "code",
      "execution_count": null,
      "id": "c9c9b2f9-d220-44d4-9f1b-12861828978b",
      "metadata": {
        "id": "c9c9b2f9-d220-44d4-9f1b-12861828978b",
        "outputId": "b3a2282a-fa09-4592-aae5-89d9f56d1a7b"
      },
      "outputs": [
        {
          "data": {
            "text/html": [
              "<div>\n",
              "<style scoped>\n",
              "    .dataframe tbody tr th:only-of-type {\n",
              "        vertical-align: middle;\n",
              "    }\n",
              "\n",
              "    .dataframe tbody tr th {\n",
              "        vertical-align: top;\n",
              "    }\n",
              "\n",
              "    .dataframe thead th {\n",
              "        text-align: right;\n",
              "    }\n",
              "</style>\n",
              "<table border=\"1\" class=\"dataframe\">\n",
              "  <thead>\n",
              "    <tr style=\"text-align: right;\">\n",
              "      <th></th>\n",
              "      <th>groupid</th>\n",
              "      <th>activity_level</th>\n",
              "    </tr>\n",
              "  </thead>\n",
              "  <tbody>\n",
              "    <tr>\n",
              "      <th>count</th>\n",
              "      <td>30.0</td>\n",
              "      <td>30.000000</td>\n",
              "    </tr>\n",
              "    <tr>\n",
              "      <th>mean</th>\n",
              "      <td>1.0</td>\n",
              "      <td>29302.433333</td>\n",
              "    </tr>\n",
              "    <tr>\n",
              "      <th>std</th>\n",
              "      <td>0.0</td>\n",
              "      <td>30.417422</td>\n",
              "    </tr>\n",
              "    <tr>\n",
              "      <th>min</th>\n",
              "      <td>1.0</td>\n",
              "      <td>29255.000000</td>\n",
              "    </tr>\n",
              "    <tr>\n",
              "      <th>25%</th>\n",
              "      <td>1.0</td>\n",
              "      <td>29280.000000</td>\n",
              "    </tr>\n",
              "    <tr>\n",
              "      <th>50%</th>\n",
              "      <td>1.0</td>\n",
              "      <td>29300.000000</td>\n",
              "    </tr>\n",
              "    <tr>\n",
              "      <th>75%</th>\n",
              "      <td>1.0</td>\n",
              "      <td>29321.000000</td>\n",
              "    </tr>\n",
              "    <tr>\n",
              "      <th>max</th>\n",
              "      <td>1.0</td>\n",
              "      <td>29382.000000</td>\n",
              "    </tr>\n",
              "  </tbody>\n",
              "</table>\n",
              "</div>"
            ],
            "text/plain": [
              "       groupid  activity_level\n",
              "count     30.0       30.000000\n",
              "mean       1.0    29302.433333\n",
              "std        0.0       30.417422\n",
              "min        1.0    29255.000000\n",
              "25%        1.0    29280.000000\n",
              "50%        1.0    29300.000000\n",
              "75%        1.0    29321.000000\n",
              "max        1.0    29382.000000"
            ]
          },
          "execution_count": 20,
          "metadata": {},
          "output_type": "execute_result"
        }
      ],
      "source": [
        "#Test group\n",
        "\n",
        "(\n",
        "    data_act.query('activity_level > 0 and groupid == 1 and dt >= \"2021-11-01\"')\n",
        "    .groupby(['dt','groupid']).count().reset_index()[['groupid','activity_level']].describe()\n",
        ")"
      ]
    },
    {
      "cell_type": "code",
      "execution_count": null,
      "id": "77bd83cf-ec2c-41a4-b4d9-683256d794f2",
      "metadata": {
        "id": "77bd83cf-ec2c-41a4-b4d9-683256d794f2",
        "outputId": "0209da62-b157-4b9b-9fc0-e0a6c088d516"
      },
      "outputs": [
        {
          "data": {
            "text/html": [
              "<div>\n",
              "<style scoped>\n",
              "    .dataframe tbody tr th:only-of-type {\n",
              "        vertical-align: middle;\n",
              "    }\n",
              "\n",
              "    .dataframe tbody tr th {\n",
              "        vertical-align: top;\n",
              "    }\n",
              "\n",
              "    .dataframe thead tr th {\n",
              "        text-align: left;\n",
              "    }\n",
              "\n",
              "    .dataframe thead tr:last-of-type th {\n",
              "        text-align: right;\n",
              "    }\n",
              "</style>\n",
              "<table border=\"1\" class=\"dataframe\">\n",
              "  <thead>\n",
              "    <tr>\n",
              "      <th></th>\n",
              "      <th colspan=\"8\" halign=\"left\">activity_level</th>\n",
              "    </tr>\n",
              "    <tr>\n",
              "      <th></th>\n",
              "      <th>count</th>\n",
              "      <th>mean</th>\n",
              "      <th>std</th>\n",
              "      <th>min</th>\n",
              "      <th>25%</th>\n",
              "      <th>50%</th>\n",
              "      <th>75%</th>\n",
              "      <th>max</th>\n",
              "    </tr>\n",
              "    <tr>\n",
              "      <th>groupid</th>\n",
              "      <th></th>\n",
              "      <th></th>\n",
              "      <th></th>\n",
              "      <th></th>\n",
              "      <th></th>\n",
              "      <th></th>\n",
              "      <th></th>\n",
              "      <th></th>\n",
              "    </tr>\n",
              "  </thead>\n",
              "  <tbody>\n",
              "    <tr>\n",
              "      <th>0</th>\n",
              "      <td>898530.0</td>\n",
              "      <td>5.402211</td>\n",
              "      <td>6.55557</td>\n",
              "      <td>0.0</td>\n",
              "      <td>0.0</td>\n",
              "      <td>1.0</td>\n",
              "      <td>11.0</td>\n",
              "      <td>20.0</td>\n",
              "    </tr>\n",
              "    <tr>\n",
              "      <th>1</th>\n",
              "      <td>901470.0</td>\n",
              "      <td>9.996304</td>\n",
              "      <td>5.78868</td>\n",
              "      <td>0.0</td>\n",
              "      <td>5.0</td>\n",
              "      <td>10.0</td>\n",
              "      <td>15.0</td>\n",
              "      <td>20.0</td>\n",
              "    </tr>\n",
              "  </tbody>\n",
              "</table>\n",
              "</div>"
            ],
            "text/plain": [
              "        activity_level                                               \n",
              "                 count      mean      std  min  25%   50%   75%   max\n",
              "groupid                                                              \n",
              "0             898530.0  5.402211  6.55557  0.0  0.0   1.0  11.0  20.0\n",
              "1             901470.0  9.996304  5.78868  0.0  5.0  10.0  15.0  20.0"
            ]
          },
          "execution_count": 21,
          "metadata": {},
          "output_type": "execute_result"
        }
      ],
      "source": [
        "#Average users were active after the start of the test\n",
        "\n",
        "data_act.query('dt >= \"2021-11-01\"').groupby(['groupid']).describe()"
      ]
    },
    {
      "cell_type": "code",
      "execution_count": null,
      "id": "3cef8287-1529-42ef-b075-dcc7a1930cec",
      "metadata": {
        "id": "3cef8287-1529-42ef-b075-dcc7a1930cec",
        "outputId": "893368b1-300b-4b08-be01-7359e52b6ea7"
      },
      "outputs": [
        {
          "data": {
            "text/html": [
              "<div>\n",
              "<style scoped>\n",
              "    .dataframe tbody tr th:only-of-type {\n",
              "        vertical-align: middle;\n",
              "    }\n",
              "\n",
              "    .dataframe tbody tr th {\n",
              "        vertical-align: top;\n",
              "    }\n",
              "\n",
              "    .dataframe thead tr th {\n",
              "        text-align: left;\n",
              "    }\n",
              "\n",
              "    .dataframe thead tr:last-of-type th {\n",
              "        text-align: right;\n",
              "    }\n",
              "</style>\n",
              "<table border=\"1\" class=\"dataframe\">\n",
              "  <thead>\n",
              "    <tr>\n",
              "      <th></th>\n",
              "      <th colspan=\"8\" halign=\"left\">activity_level</th>\n",
              "    </tr>\n",
              "    <tr>\n",
              "      <th></th>\n",
              "      <th>count</th>\n",
              "      <th>mean</th>\n",
              "      <th>std</th>\n",
              "      <th>min</th>\n",
              "      <th>25%</th>\n",
              "      <th>50%</th>\n",
              "      <th>75%</th>\n",
              "      <th>max</th>\n",
              "    </tr>\n",
              "    <tr>\n",
              "      <th>groupid</th>\n",
              "      <th></th>\n",
              "      <th></th>\n",
              "      <th></th>\n",
              "      <th></th>\n",
              "      <th></th>\n",
              "      <th></th>\n",
              "      <th></th>\n",
              "      <th></th>\n",
              "    </tr>\n",
              "  </thead>\n",
              "  <tbody>\n",
              "    <tr>\n",
              "      <th>0</th>\n",
              "      <td>928481.0</td>\n",
              "      <td>5.245635</td>\n",
              "      <td>6.521184</td>\n",
              "      <td>0.0</td>\n",
              "      <td>0.0</td>\n",
              "      <td>1.0</td>\n",
              "      <td>10.0</td>\n",
              "      <td>20.0</td>\n",
              "    </tr>\n",
              "    <tr>\n",
              "      <th>1</th>\n",
              "      <td>931519.0</td>\n",
              "      <td>5.240952</td>\n",
              "      <td>6.520811</td>\n",
              "      <td>0.0</td>\n",
              "      <td>0.0</td>\n",
              "      <td>1.0</td>\n",
              "      <td>10.0</td>\n",
              "      <td>20.0</td>\n",
              "    </tr>\n",
              "  </tbody>\n",
              "</table>\n",
              "</div>"
            ],
            "text/plain": [
              "        activity_level                                               \n",
              "                 count      mean       std  min  25%  50%   75%   max\n",
              "groupid                                                              \n",
              "0             928481.0  5.245635  6.521184  0.0  0.0  1.0  10.0  20.0\n",
              "1             931519.0  5.240952  6.520811  0.0  0.0  1.0  10.0  20.0"
            ]
          },
          "execution_count": 22,
          "metadata": {},
          "output_type": "execute_result"
        }
      ],
      "source": [
        "#Before the test\n",
        "\n",
        "data_act.query('dt < \"2021-11-01\"').groupby('groupid').describe()"
      ]
    },
    {
      "cell_type": "code",
      "execution_count": null,
      "id": "8ab52da4-2fa9-46bc-b67a-bca8b805f8c3",
      "metadata": {
        "id": "8ab52da4-2fa9-46bc-b67a-bca8b805f8c3"
      },
      "outputs": [],
      "source": [
        "data_act_count = data_act.query('activity_level > 0').groupby(['groupid','dt']).count().reset_index()"
      ]
    },
    {
      "cell_type": "code",
      "execution_count": null,
      "id": "7cfd5ee0-308e-4452-87f2-43d4deccd2c4",
      "metadata": {
        "id": "7cfd5ee0-308e-4452-87f2-43d4deccd2c4",
        "outputId": "c4b6b1ec-9e04-4b7b-f0af-2a52691fdf99"
      },
      "outputs": [
        {
          "data": {
            "text/html": [
              "<div>\n",
              "<style scoped>\n",
              "    .dataframe tbody tr th:only-of-type {\n",
              "        vertical-align: middle;\n",
              "    }\n",
              "\n",
              "    .dataframe tbody tr th {\n",
              "        vertical-align: top;\n",
              "    }\n",
              "\n",
              "    .dataframe thead th {\n",
              "        text-align: right;\n",
              "    }\n",
              "</style>\n",
              "<table border=\"1\" class=\"dataframe\">\n",
              "  <thead>\n",
              "    <tr style=\"text-align: right;\">\n",
              "      <th></th>\n",
              "      <th>groupid</th>\n",
              "      <th>dt</th>\n",
              "      <th>userid</th>\n",
              "      <th>activity_level</th>\n",
              "    </tr>\n",
              "  </thead>\n",
              "  <tbody>\n",
              "    <tr>\n",
              "      <th>0</th>\n",
              "      <td>0</td>\n",
              "      <td>2021-10-01</td>\n",
              "      <td>15337</td>\n",
              "      <td>15337</td>\n",
              "    </tr>\n",
              "    <tr>\n",
              "      <th>1</th>\n",
              "      <td>0</td>\n",
              "      <td>2021-10-02</td>\n",
              "      <td>15354</td>\n",
              "      <td>15354</td>\n",
              "    </tr>\n",
              "    <tr>\n",
              "      <th>2</th>\n",
              "      <td>0</td>\n",
              "      <td>2021-10-03</td>\n",
              "      <td>15423</td>\n",
              "      <td>15423</td>\n",
              "    </tr>\n",
              "    <tr>\n",
              "      <th>3</th>\n",
              "      <td>0</td>\n",
              "      <td>2021-10-04</td>\n",
              "      <td>15211</td>\n",
              "      <td>15211</td>\n",
              "    </tr>\n",
              "    <tr>\n",
              "      <th>4</th>\n",
              "      <td>0</td>\n",
              "      <td>2021-10-05</td>\n",
              "      <td>15126</td>\n",
              "      <td>15126</td>\n",
              "    </tr>\n",
              "  </tbody>\n",
              "</table>\n",
              "</div>"
            ],
            "text/plain": [
              "   groupid          dt  userid  activity_level\n",
              "0        0  2021-10-01   15337           15337\n",
              "1        0  2021-10-02   15354           15354\n",
              "2        0  2021-10-03   15423           15423\n",
              "3        0  2021-10-04   15211           15211\n",
              "4        0  2021-10-05   15126           15126"
            ]
          },
          "execution_count": 24,
          "metadata": {},
          "output_type": "execute_result"
        }
      ],
      "source": [
        "data_act_count.head()"
      ]
    },
    {
      "cell_type": "code",
      "execution_count": null,
      "id": "044f6100-ea01-46fe-ba50-7e994a7fbf5c",
      "metadata": {
        "id": "044f6100-ea01-46fe-ba50-7e994a7fbf5c",
        "outputId": "700115fd-9198-4c60-d26d-192ee2779b54"
      },
      "outputs": [
        {
          "data": {
            "text/html": [
              "\n",
              "<div id=\"altair-viz-4d4defef1dba4970a984923148626a9c\"></div>\n",
              "<script type=\"text/javascript\">\n",
              "  (function(spec, embedOpt){\n",
              "    let outputDiv = document.currentScript.previousElementSibling;\n",
              "    if (outputDiv.id !== \"altair-viz-4d4defef1dba4970a984923148626a9c\") {\n",
              "      outputDiv = document.getElementById(\"altair-viz-4d4defef1dba4970a984923148626a9c\");\n",
              "    }\n",
              "    const paths = {\n",
              "      \"vega\": \"https://cdn.jsdelivr.net/npm//vega@5?noext\",\n",
              "      \"vega-lib\": \"https://cdn.jsdelivr.net/npm//vega-lib?noext\",\n",
              "      \"vega-lite\": \"https://cdn.jsdelivr.net/npm//vega-lite@4.8.1?noext\",\n",
              "      \"vega-embed\": \"https://cdn.jsdelivr.net/npm//vega-embed@6?noext\",\n",
              "    };\n",
              "\n",
              "    function loadScript(lib) {\n",
              "      return new Promise(function(resolve, reject) {\n",
              "        var s = document.createElement('script');\n",
              "        s.src = paths[lib];\n",
              "        s.async = true;\n",
              "        s.onload = () => resolve(paths[lib]);\n",
              "        s.onerror = () => reject(`Error loading script: ${paths[lib]}`);\n",
              "        document.getElementsByTagName(\"head\")[0].appendChild(s);\n",
              "      });\n",
              "    }\n",
              "\n",
              "    function showError(err) {\n",
              "      outputDiv.innerHTML = `<div class=\"error\" style=\"color:red;\">${err}</div>`;\n",
              "      throw err;\n",
              "    }\n",
              "\n",
              "    function displayChart(vegaEmbed) {\n",
              "      vegaEmbed(outputDiv, spec, embedOpt)\n",
              "        .catch(err => showError(`Javascript Error: ${err.message}<br>This usually means there's a typo in your chart specification. See the javascript console for the full traceback.`));\n",
              "    }\n",
              "\n",
              "    if(typeof define === \"function\" && define.amd) {\n",
              "      requirejs.config({paths});\n",
              "      require([\"vega-embed\"], displayChart, err => showError(`Error loading script: ${err.message}`));\n",
              "    } else if (typeof vegaEmbed === \"function\") {\n",
              "      displayChart(vegaEmbed);\n",
              "    } else {\n",
              "      loadScript(\"vega\")\n",
              "        .then(() => loadScript(\"vega-lite\"))\n",
              "        .then(() => loadScript(\"vega-embed\"))\n",
              "        .catch(showError)\n",
              "        .then(() => displayChart(vegaEmbed));\n",
              "    }\n",
              "  })({\"config\": {\"view\": {\"continuousWidth\": 400, \"continuousHeight\": 300}}, \"data\": {\"name\": \"data-a44c901de9c1b29d7f517caf128d98a7\"}, \"mark\": {\"type\": \"line\", \"size\": 3}, \"encoding\": {\"color\": {\"type\": \"ordinal\", \"field\": \"groupid\"}, \"tooltip\": [{\"type\": \"quantitative\", \"field\": \"userid\"}], \"x\": {\"type\": \"nominal\", \"field\": \"dt\"}, \"y\": {\"type\": \"quantitative\", \"field\": \"userid\"}}, \"height\": 400, \"width\": 600, \"$schema\": \"https://vega.github.io/schema/vega-lite/v4.8.1.json\", \"datasets\": {\"data-a44c901de9c1b29d7f517caf128d98a7\": [{\"groupid\": 0, \"dt\": \"2021-10-01\", \"userid\": 15337, \"activity_level\": 15337}, {\"groupid\": 0, \"dt\": \"2021-10-02\", \"userid\": 15354, \"activity_level\": 15354}, {\"groupid\": 0, \"dt\": \"2021-10-03\", \"userid\": 15423, \"activity_level\": 15423}, {\"groupid\": 0, \"dt\": \"2021-10-04\", \"userid\": 15211, \"activity_level\": 15211}, {\"groupid\": 0, \"dt\": \"2021-10-05\", \"userid\": 15126, \"activity_level\": 15126}, {\"groupid\": 0, \"dt\": \"2021-10-06\", \"userid\": 15335, \"activity_level\": 15335}, {\"groupid\": 0, \"dt\": \"2021-10-07\", \"userid\": 15346, \"activity_level\": 15346}, {\"groupid\": 0, \"dt\": \"2021-10-08\", \"userid\": 15357, \"activity_level\": 15357}, {\"groupid\": 0, \"dt\": \"2021-10-09\", \"userid\": 15371, \"activity_level\": 15371}, {\"groupid\": 0, \"dt\": \"2021-10-10\", \"userid\": 15277, \"activity_level\": 15277}, {\"groupid\": 0, \"dt\": \"2021-10-11\", \"userid\": 15226, \"activity_level\": 15226}, {\"groupid\": 0, \"dt\": \"2021-10-12\", \"userid\": 15290, \"activity_level\": 15290}, {\"groupid\": 0, \"dt\": \"2021-10-13\", \"userid\": 15334, \"activity_level\": 15334}, {\"groupid\": 0, \"dt\": \"2021-10-14\", \"userid\": 15295, \"activity_level\": 15295}, {\"groupid\": 0, \"dt\": \"2021-10-15\", \"userid\": 15277, \"activity_level\": 15277}, {\"groupid\": 0, \"dt\": \"2021-10-16\", \"userid\": 15348, \"activity_level\": 15348}, {\"groupid\": 0, \"dt\": \"2021-10-17\", \"userid\": 15430, \"activity_level\": 15430}, {\"groupid\": 0, \"dt\": \"2021-10-18\", \"userid\": 15244, \"activity_level\": 15244}, {\"groupid\": 0, \"dt\": \"2021-10-19\", \"userid\": 15303, \"activity_level\": 15303}, {\"groupid\": 0, \"dt\": \"2021-10-20\", \"userid\": 15382, \"activity_level\": 15382}, {\"groupid\": 0, \"dt\": \"2021-10-21\", \"userid\": 15431, \"activity_level\": 15431}, {\"groupid\": 0, \"dt\": \"2021-10-22\", \"userid\": 15356, \"activity_level\": 15356}, {\"groupid\": 0, \"dt\": \"2021-10-23\", \"userid\": 15151, \"activity_level\": 15151}, {\"groupid\": 0, \"dt\": \"2021-10-24\", \"userid\": 15512, \"activity_level\": 15512}, {\"groupid\": 0, \"dt\": \"2021-10-25\", \"userid\": 15351, \"activity_level\": 15351}, {\"groupid\": 0, \"dt\": \"2021-10-26\", \"userid\": 15280, \"activity_level\": 15280}, {\"groupid\": 0, \"dt\": \"2021-10-27\", \"userid\": 15459, \"activity_level\": 15459}, {\"groupid\": 0, \"dt\": \"2021-10-28\", \"userid\": 15434, \"activity_level\": 15434}, {\"groupid\": 0, \"dt\": \"2021-10-29\", \"userid\": 15214, \"activity_level\": 15214}, {\"groupid\": 0, \"dt\": \"2021-10-30\", \"userid\": 15285, \"activity_level\": 15285}, {\"groupid\": 0, \"dt\": \"2021-10-31\", \"userid\": 15208, \"activity_level\": 15208}, {\"groupid\": 0, \"dt\": \"2021-11-01\", \"userid\": 15989, \"activity_level\": 15989}, {\"groupid\": 0, \"dt\": \"2021-11-02\", \"userid\": 16024, \"activity_level\": 16024}, {\"groupid\": 0, \"dt\": \"2021-11-03\", \"userid\": 16049, \"activity_level\": 16049}, {\"groupid\": 0, \"dt\": \"2021-11-04\", \"userid\": 16040, \"activity_level\": 16040}, {\"groupid\": 0, \"dt\": \"2021-11-05\", \"userid\": 16045, \"activity_level\": 16045}, {\"groupid\": 0, \"dt\": \"2021-11-06\", \"userid\": 15991, \"activity_level\": 15991}, {\"groupid\": 0, \"dt\": \"2021-11-07\", \"userid\": 16133, \"activity_level\": 16133}, {\"groupid\": 0, \"dt\": \"2021-11-08\", \"userid\": 16119, \"activity_level\": 16119}, {\"groupid\": 0, \"dt\": \"2021-11-09\", \"userid\": 15953, \"activity_level\": 15953}, {\"groupid\": 0, \"dt\": \"2021-11-10\", \"userid\": 15990, \"activity_level\": 15990}, {\"groupid\": 0, \"dt\": \"2021-11-11\", \"userid\": 16045, \"activity_level\": 16045}, {\"groupid\": 0, \"dt\": \"2021-11-12\", \"userid\": 15859, \"activity_level\": 15859}, {\"groupid\": 0, \"dt\": \"2021-11-13\", \"userid\": 15973, \"activity_level\": 15973}, {\"groupid\": 0, \"dt\": \"2021-11-14\", \"userid\": 16016, \"activity_level\": 16016}, {\"groupid\": 0, \"dt\": \"2021-11-15\", \"userid\": 16112, \"activity_level\": 16112}, {\"groupid\": 0, \"dt\": \"2021-11-16\", \"userid\": 16147, \"activity_level\": 16147}, {\"groupid\": 0, \"dt\": \"2021-11-17\", \"userid\": 16015, \"activity_level\": 16015}, {\"groupid\": 0, \"dt\": \"2021-11-18\", \"userid\": 16007, \"activity_level\": 16007}, {\"groupid\": 0, \"dt\": \"2021-11-19\", \"userid\": 16104, \"activity_level\": 16104}, {\"groupid\": 0, \"dt\": \"2021-11-20\", \"userid\": 16090, \"activity_level\": 16090}, {\"groupid\": 0, \"dt\": \"2021-11-21\", \"userid\": 15294, \"activity_level\": 15294}, {\"groupid\": 0, \"dt\": \"2021-11-22\", \"userid\": 15207, \"activity_level\": 15207}, {\"groupid\": 0, \"dt\": \"2021-11-23\", \"userid\": 15424, \"activity_level\": 15424}, {\"groupid\": 0, \"dt\": \"2021-11-24\", \"userid\": 15328, \"activity_level\": 15328}, {\"groupid\": 0, \"dt\": \"2021-11-25\", \"userid\": 15163, \"activity_level\": 15163}, {\"groupid\": 0, \"dt\": \"2021-11-26\", \"userid\": 15226, \"activity_level\": 15226}, {\"groupid\": 0, \"dt\": \"2021-11-27\", \"userid\": 15286, \"activity_level\": 15286}, {\"groupid\": 0, \"dt\": \"2021-11-28\", \"userid\": 15283, \"activity_level\": 15283}, {\"groupid\": 0, \"dt\": \"2021-11-29\", \"userid\": 15356, \"activity_level\": 15356}, {\"groupid\": 0, \"dt\": \"2021-11-30\", \"userid\": 15192, \"activity_level\": 15192}, {\"groupid\": 1, \"dt\": \"2021-10-01\", \"userid\": 15297, \"activity_level\": 15297}, {\"groupid\": 1, \"dt\": \"2021-10-02\", \"userid\": 15421, \"activity_level\": 15421}, {\"groupid\": 1, \"dt\": \"2021-10-03\", \"userid\": 15362, \"activity_level\": 15362}, {\"groupid\": 1, \"dt\": \"2021-10-04\", \"userid\": 15388, \"activity_level\": 15388}, {\"groupid\": 1, \"dt\": \"2021-10-05\", \"userid\": 15462, \"activity_level\": 15462}, {\"groupid\": 1, \"dt\": \"2021-10-06\", \"userid\": 15304, \"activity_level\": 15304}, {\"groupid\": 1, \"dt\": \"2021-10-07\", \"userid\": 15291, \"activity_level\": 15291}, {\"groupid\": 1, \"dt\": \"2021-10-08\", \"userid\": 15243, \"activity_level\": 15243}, {\"groupid\": 1, \"dt\": \"2021-10-09\", \"userid\": 15531, \"activity_level\": 15531}, {\"groupid\": 1, \"dt\": \"2021-10-10\", \"userid\": 15304, \"activity_level\": 15304}, {\"groupid\": 1, \"dt\": \"2021-10-11\", \"userid\": 15263, \"activity_level\": 15263}, {\"groupid\": 1, \"dt\": \"2021-10-12\", \"userid\": 15425, \"activity_level\": 15425}, {\"groupid\": 1, \"dt\": \"2021-10-13\", \"userid\": 15427, \"activity_level\": 15427}, {\"groupid\": 1, \"dt\": \"2021-10-14\", \"userid\": 15421, \"activity_level\": 15421}, {\"groupid\": 1, \"dt\": \"2021-10-15\", \"userid\": 15360, \"activity_level\": 15360}, {\"groupid\": 1, \"dt\": \"2021-10-16\", \"userid\": 15360, \"activity_level\": 15360}, {\"groupid\": 1, \"dt\": \"2021-10-17\", \"userid\": 15311, \"activity_level\": 15311}, {\"groupid\": 1, \"dt\": \"2021-10-18\", \"userid\": 15450, \"activity_level\": 15450}, {\"groupid\": 1, \"dt\": \"2021-10-19\", \"userid\": 15284, \"activity_level\": 15284}, {\"groupid\": 1, \"dt\": \"2021-10-20\", \"userid\": 15413, \"activity_level\": 15413}, {\"groupid\": 1, \"dt\": \"2021-10-21\", \"userid\": 15274, \"activity_level\": 15274}, {\"groupid\": 1, \"dt\": \"2021-10-22\", \"userid\": 15217, \"activity_level\": 15217}, {\"groupid\": 1, \"dt\": \"2021-10-23\", \"userid\": 15494, \"activity_level\": 15494}, {\"groupid\": 1, \"dt\": \"2021-10-24\", \"userid\": 15303, \"activity_level\": 15303}, {\"groupid\": 1, \"dt\": \"2021-10-25\", \"userid\": 15265, \"activity_level\": 15265}, {\"groupid\": 1, \"dt\": \"2021-10-26\", \"userid\": 15393, \"activity_level\": 15393}, {\"groupid\": 1, \"dt\": \"2021-10-27\", \"userid\": 15202, \"activity_level\": 15202}, {\"groupid\": 1, \"dt\": \"2021-10-28\", \"userid\": 15300, \"activity_level\": 15300}, {\"groupid\": 1, \"dt\": \"2021-10-29\", \"userid\": 15509, \"activity_level\": 15509}, {\"groupid\": 1, \"dt\": \"2021-10-30\", \"userid\": 15343, \"activity_level\": 15343}, {\"groupid\": 1, \"dt\": \"2021-10-31\", \"userid\": 15311, \"activity_level\": 15311}, {\"groupid\": 1, \"dt\": \"2021-11-01\", \"userid\": 29318, \"activity_level\": 29318}, {\"groupid\": 1, \"dt\": \"2021-11-02\", \"userid\": 29289, \"activity_level\": 29289}, {\"groupid\": 1, \"dt\": \"2021-11-03\", \"userid\": 29306, \"activity_level\": 29306}, {\"groupid\": 1, \"dt\": \"2021-11-04\", \"userid\": 29267, \"activity_level\": 29267}, {\"groupid\": 1, \"dt\": \"2021-11-05\", \"userid\": 29336, \"activity_level\": 29336}, {\"groupid\": 1, \"dt\": \"2021-11-06\", \"userid\": 29306, \"activity_level\": 29306}, {\"groupid\": 1, \"dt\": \"2021-11-07\", \"userid\": 29255, \"activity_level\": 29255}, {\"groupid\": 1, \"dt\": \"2021-11-08\", \"userid\": 29263, \"activity_level\": 29263}, {\"groupid\": 1, \"dt\": \"2021-11-09\", \"userid\": 29286, \"activity_level\": 29286}, {\"groupid\": 1, \"dt\": \"2021-11-10\", \"userid\": 29340, \"activity_level\": 29340}, {\"groupid\": 1, \"dt\": \"2021-11-11\", \"userid\": 29349, \"activity_level\": 29349}, {\"groupid\": 1, \"dt\": \"2021-11-12\", \"userid\": 29278, \"activity_level\": 29278}, {\"groupid\": 1, \"dt\": \"2021-11-13\", \"userid\": 29258, \"activity_level\": 29258}, {\"groupid\": 1, \"dt\": \"2021-11-14\", \"userid\": 29322, \"activity_level\": 29322}, {\"groupid\": 1, \"dt\": \"2021-11-15\", \"userid\": 29337, \"activity_level\": 29337}, {\"groupid\": 1, \"dt\": \"2021-11-16\", \"userid\": 29300, \"activity_level\": 29300}, {\"groupid\": 1, \"dt\": \"2021-11-17\", \"userid\": 29296, \"activity_level\": 29296}, {\"groupid\": 1, \"dt\": \"2021-11-18\", \"userid\": 29274, \"activity_level\": 29274}, {\"groupid\": 1, \"dt\": \"2021-11-19\", \"userid\": 29292, \"activity_level\": 29292}, {\"groupid\": 1, \"dt\": \"2021-11-20\", \"userid\": 29329, \"activity_level\": 29329}, {\"groupid\": 1, \"dt\": \"2021-11-21\", \"userid\": 29309, \"activity_level\": 29309}, {\"groupid\": 1, \"dt\": \"2021-11-22\", \"userid\": 29278, \"activity_level\": 29278}, {\"groupid\": 1, \"dt\": \"2021-11-23\", \"userid\": 29300, \"activity_level\": 29300}, {\"groupid\": 1, \"dt\": \"2021-11-24\", \"userid\": 29287, \"activity_level\": 29287}, {\"groupid\": 1, \"dt\": \"2021-11-25\", \"userid\": 29301, \"activity_level\": 29301}, {\"groupid\": 1, \"dt\": \"2021-11-26\", \"userid\": 29303, \"activity_level\": 29303}, {\"groupid\": 1, \"dt\": \"2021-11-27\", \"userid\": 29350, \"activity_level\": 29350}, {\"groupid\": 1, \"dt\": \"2021-11-28\", \"userid\": 29273, \"activity_level\": 29273}, {\"groupid\": 1, \"dt\": \"2021-11-29\", \"userid\": 29289, \"activity_level\": 29289}, {\"groupid\": 1, \"dt\": \"2021-11-30\", \"userid\": 29382, \"activity_level\": 29382}]}}, {\"mode\": \"vega-lite\"});\n",
              "</script>"
            ],
            "text/plain": [
              "alt.Chart(...)"
            ]
          },
          "execution_count": 25,
          "metadata": {},
          "output_type": "execute_result"
        }
      ],
      "source": [
        "alt.Chart(data_act_count).mark_line(size=3).encode(\n",
        "    alt.X('dt'),\n",
        "    alt.Y('userid'),\n",
        "    color='groupid:O',\n",
        "    tooltip=['userid']\n",
        ").properties(\n",
        "    width=600,\n",
        "    height=400\n",
        ")"
      ]
    },
    {
      "cell_type": "markdown",
      "id": "39cf46cb-0c1e-40f2-9a36-631a7dbaacf5",
      "metadata": {
        "id": "39cf46cb-0c1e-40f2-9a36-631a7dbaacf5"
      },
      "source": [
        "### Comparing the activity between the groups"
      ]
    },
    {
      "cell_type": "markdown",
      "id": "dfe26f82-0648-4b16-acac-3dd2f4b907f2",
      "metadata": {
        "id": "dfe26f82-0648-4b16-acac-3dd2f4b907f2"
      },
      "source": [
        "By the activity levels"
      ]
    },
    {
      "cell_type": "code",
      "execution_count": null,
      "id": "fcfc3b59-eb27-4067-b5ee-ad05e34b30b5",
      "metadata": {
        "id": "fcfc3b59-eb27-4067-b5ee-ad05e34b30b5",
        "outputId": "3edd1f36-ab41-40bb-f8c4-f70c99dcb5dd"
      },
      "outputs": [
        {
          "data": {
            "text/plain": [
              "array([ 0,  0,  0, ..., 20, 20, 20])"
            ]
          },
          "execution_count": 26,
          "metadata": {},
          "output_type": "execute_result"
        }
      ],
      "source": [
        "#Pass activity levels to the T test\n",
        "\n",
        "data_act.query('groupid == 0')['activity_level'].to_numpy()"
      ]
    },
    {
      "cell_type": "code",
      "execution_count": null,
      "id": "15019ca0-7a63-44d1-9dce-916ddacf28eb",
      "metadata": {
        "id": "15019ca0-7a63-44d1-9dce-916ddacf28eb",
        "outputId": "15a097d9-0059-4376-d943-7e1cff69daa3"
      },
      "outputs": [
        {
          "name": "stdout",
          "output_type": "stream",
          "text": [
            "0.0\n"
          ]
        }
      ],
      "source": [
        "#Print the result\n",
        "\n",
        "res = ttest_ind(data_act.query('groupid == 0 and dt >= \"2021-11-01\"')['activity_level'].to_numpy(),\n",
        "                data_act.query('groupid == 1 and dt >= \"2021-11-01\"')['activity_level'].to_numpy()).pvalue\n",
        "\n",
        "print(res)"
      ]
    },
    {
      "cell_type": "code",
      "execution_count": null,
      "id": "280e6387-de54-467e-92bc-09056d989109",
      "metadata": {
        "id": "280e6387-de54-467e-92bc-09056d989109",
        "outputId": "89d948f8-23e8-478e-aa62-723db9bff256"
      },
      "outputs": [
        {
          "data": {
            "text/plain": [
              "'0.0000000000000000000000000000000000000000000000000000000000000000000000000000000000000000000000000000'"
            ]
          },
          "execution_count": 29,
          "metadata": {},
          "output_type": "execute_result"
        }
      ],
      "source": [
        "#There is extremely high significance because changes are much bigger than minimum detectable effect, there is very low chance of randomness \n",
        "\n",
        "\"{:.100f}\".format(res)"
      ]
    },
    {
      "cell_type": "markdown",
      "id": "bacfced1-1702-498d-812b-57e4cb5262ab",
      "metadata": {
        "id": "bacfced1-1702-498d-812b-57e4cb5262ab"
      },
      "source": [
        "By the number of active users"
      ]
    },
    {
      "cell_type": "code",
      "execution_count": null,
      "id": "a49dbd4f-fe53-4068-bba3-a459f76e0273",
      "metadata": {
        "id": "a49dbd4f-fe53-4068-bba3-a459f76e0273"
      },
      "outputs": [],
      "source": [
        "before = data_act_count.query('dt < \"2021-11-01\"')"
      ]
    },
    {
      "cell_type": "code",
      "execution_count": null,
      "id": "cbf5ce39-373e-4d24-a131-ab5f1697e951",
      "metadata": {
        "id": "cbf5ce39-373e-4d24-a131-ab5f1697e951"
      },
      "outputs": [],
      "source": [
        "after = data_act_count.query('dt >= \"2021-11-01\"')"
      ]
    },
    {
      "cell_type": "code",
      "execution_count": null,
      "id": "add4af9c-e91f-4b19-b746-57baa0a6d7ee",
      "metadata": {
        "id": "add4af9c-e91f-4b19-b746-57baa0a6d7ee",
        "outputId": "796ebd2f-3e9a-4cc4-b510-39a19e882541"
      },
      "outputs": [
        {
          "data": {
            "text/html": [
              "<div>\n",
              "<style scoped>\n",
              "    .dataframe tbody tr th:only-of-type {\n",
              "        vertical-align: middle;\n",
              "    }\n",
              "\n",
              "    .dataframe tbody tr th {\n",
              "        vertical-align: top;\n",
              "    }\n",
              "\n",
              "    .dataframe thead th {\n",
              "        text-align: right;\n",
              "    }\n",
              "</style>\n",
              "<table border=\"1\" class=\"dataframe\">\n",
              "  <thead>\n",
              "    <tr style=\"text-align: right;\">\n",
              "      <th></th>\n",
              "      <th>groupid</th>\n",
              "      <th>dt</th>\n",
              "      <th>userid</th>\n",
              "      <th>activity_level</th>\n",
              "    </tr>\n",
              "  </thead>\n",
              "  <tbody>\n",
              "    <tr>\n",
              "      <th>0</th>\n",
              "      <td>0</td>\n",
              "      <td>2021-10-01</td>\n",
              "      <td>15337</td>\n",
              "      <td>15337</td>\n",
              "    </tr>\n",
              "    <tr>\n",
              "      <th>1</th>\n",
              "      <td>0</td>\n",
              "      <td>2021-10-02</td>\n",
              "      <td>15354</td>\n",
              "      <td>15354</td>\n",
              "    </tr>\n",
              "    <tr>\n",
              "      <th>2</th>\n",
              "      <td>0</td>\n",
              "      <td>2021-10-03</td>\n",
              "      <td>15423</td>\n",
              "      <td>15423</td>\n",
              "    </tr>\n",
              "    <tr>\n",
              "      <th>3</th>\n",
              "      <td>0</td>\n",
              "      <td>2021-10-04</td>\n",
              "      <td>15211</td>\n",
              "      <td>15211</td>\n",
              "    </tr>\n",
              "    <tr>\n",
              "      <th>4</th>\n",
              "      <td>0</td>\n",
              "      <td>2021-10-05</td>\n",
              "      <td>15126</td>\n",
              "      <td>15126</td>\n",
              "    </tr>\n",
              "  </tbody>\n",
              "</table>\n",
              "</div>"
            ],
            "text/plain": [
              "   groupid          dt  userid  activity_level\n",
              "0        0  2021-10-01   15337           15337\n",
              "1        0  2021-10-02   15354           15354\n",
              "2        0  2021-10-03   15423           15423\n",
              "3        0  2021-10-04   15211           15211\n",
              "4        0  2021-10-05   15126           15126"
            ]
          },
          "execution_count": 32,
          "metadata": {},
          "output_type": "execute_result"
        }
      ],
      "source": [
        "before.head()"
      ]
    },
    {
      "cell_type": "markdown",
      "id": "02203cd0-0525-4ce3-9e95-b61f0a1ec781",
      "metadata": {
        "id": "02203cd0-0525-4ce3-9e95-b61f0a1ec781"
      },
      "source": [
        "Checking for the pretest bias on activity."
      ]
    },
    {
      "cell_type": "code",
      "execution_count": null,
      "id": "4e037632-1216-44d2-9d44-4ec2dca80ffb",
      "metadata": {
        "id": "4e037632-1216-44d2-9d44-4ec2dca80ffb",
        "outputId": "47234184-29e0-4088-e747-8a5ddf6a77c5"
      },
      "outputs": [
        {
          "data": {
            "text/plain": [
              "15320.870967741936"
            ]
          },
          "execution_count": 33,
          "metadata": {},
          "output_type": "execute_result"
        }
      ],
      "source": [
        "np.mean(before.query('groupid == 0')['userid'].to_numpy())"
      ]
    },
    {
      "cell_type": "code",
      "execution_count": null,
      "id": "204cb2d8-8a05-40c7-99d3-2f2cc8a6cabb",
      "metadata": {
        "id": "204cb2d8-8a05-40c7-99d3-2f2cc8a6cabb",
        "outputId": "4e3db653-2588-4def-d9e7-3756519f442c"
      },
      "outputs": [
        {
          "data": {
            "text/plain": [
              "15352.516129032258"
            ]
          },
          "execution_count": 34,
          "metadata": {},
          "output_type": "execute_result"
        }
      ],
      "source": [
        "np.mean(before.query('groupid == 1')['userid'].to_numpy())"
      ]
    },
    {
      "cell_type": "code",
      "execution_count": null,
      "id": "b2134b34-4290-49d9-9038-77963642d9b5",
      "metadata": {
        "id": "b2134b34-4290-49d9-9038-77963642d9b5",
        "outputId": "411cdab6-01af-407e-e491-469896493a8e"
      },
      "outputs": [
        {
          "name": "stdout",
          "output_type": "stream",
          "text": [
            "0.1630842353828083\n"
          ]
        }
      ],
      "source": [
        "#P value is very high which indicates there are no differences in results\n",
        "\n",
        "res = ttest_ind(before.query('groupid == 0')['userid'].to_numpy(), before.query('groupid == 1')['userid']\n",
        "                .to_numpy()).pvalue\n",
        "\n",
        "print(res)"
      ]
    },
    {
      "cell_type": "code",
      "execution_count": null,
      "id": "a5a52fba-08d0-4074-a1ce-2ad958727486",
      "metadata": {
        "id": "a5a52fba-08d0-4074-a1ce-2ad958727486",
        "outputId": "373be755-853f-4a20-9f63-f43bbf404f26"
      },
      "outputs": [
        {
          "data": {
            "text/plain": [
              "'0.1630842353828083068911780628695851191878318786621093750000000000000000000000000000000000000000000000'"
            ]
          },
          "execution_count": 36,
          "metadata": {},
          "output_type": "execute_result"
        }
      ],
      "source": [
        "\"{:.100f}\".format(res)"
      ]
    },
    {
      "cell_type": "code",
      "execution_count": null,
      "id": "310c8d47-f759-48d3-8158-b8b2fa41d2b7",
      "metadata": {
        "id": "310c8d47-f759-48d3-8158-b8b2fa41d2b7",
        "outputId": "80c330c0-cad2-47a6-cd68-ef3defa6f2a4"
      },
      "outputs": [
        {
          "data": {
            "text/plain": [
              "15782.0"
            ]
          },
          "execution_count": 37,
          "metadata": {},
          "output_type": "execute_result"
        }
      ],
      "source": [
        "np.mean(after.query('groupid == 0')['userid'].to_numpy())"
      ]
    },
    {
      "cell_type": "code",
      "execution_count": null,
      "id": "c84796e5-4cc6-468b-b85c-b97b0cfdd3d3",
      "metadata": {
        "id": "c84796e5-4cc6-468b-b85c-b97b0cfdd3d3",
        "outputId": "e4c37951-227f-49ed-d78f-24661ff65a17"
      },
      "outputs": [
        {
          "data": {
            "text/plain": [
              "29302.433333333334"
            ]
          },
          "execution_count": 38,
          "metadata": {},
          "output_type": "execute_result"
        }
      ],
      "source": [
        "#User activity during test period\n",
        "\n",
        "np.mean(after.query('groupid == 1')['userid'].to_numpy())"
      ]
    },
    {
      "cell_type": "code",
      "execution_count": null,
      "id": "64d988cd-2834-4106-a65f-dad544c743ba",
      "metadata": {
        "id": "64d988cd-2834-4106-a65f-dad544c743ba",
        "outputId": "a8be039d-8f5f-4354-8d07-6158eed214cd"
      },
      "outputs": [
        {
          "name": "stdout",
          "output_type": "stream",
          "text": [
            "6.590603584107244e-84\n"
          ]
        }
      ],
      "source": [
        "#P value for control group after the test and the test group after the test\n",
        "\n",
        "res = ttest_ind(after.query('groupid == 0')['userid'].to_numpy(), after.query('groupid == 1')['userid']\n",
        "                .to_numpy()).pvalue\n",
        "\n",
        "print(res)"
      ]
    },
    {
      "cell_type": "code",
      "execution_count": null,
      "id": "7888d484-7de6-4781-8adc-735f9bffdfc5",
      "metadata": {
        "id": "7888d484-7de6-4781-8adc-735f9bffdfc5",
        "outputId": "0e92e432-5298-4196-f7ae-6cea67f07e6d"
      },
      "outputs": [
        {
          "data": {
            "text/plain": [
              "'0.0000000000000000000000000000000000000000000000000000000000000000000000000000000000065906035841072442'"
            ]
          },
          "execution_count": 40,
          "metadata": {},
          "output_type": "execute_result"
        }
      ],
      "source": [
        "#The results of the test affect the user activity regardless of way which we calculated\n",
        "\n",
        "\"{:.100f}\".format(res)"
      ]
    },
    {
      "cell_type": "markdown",
      "id": "811ad1c5-021f-4081-986a-7694701220c9",
      "metadata": {
        "id": "811ad1c5-021f-4081-986a-7694701220c9"
      },
      "source": [
        "### Click through rate (CTR)"
      ]
    },
    {
      "cell_type": "code",
      "execution_count": null,
      "id": "55b3440e-f138-4226-8929-da46fd60ed1b",
      "metadata": {
        "id": "55b3440e-f138-4226-8929-da46fd60ed1b"
      },
      "outputs": [],
      "source": [
        "#Import file with ctr\n",
        "\n",
        "data_ctr = pd.read_csv(\"data/ctr_all.csv\")"
      ]
    },
    {
      "cell_type": "code",
      "execution_count": null,
      "id": "a6fe2a7e-0fa4-4e11-bbbe-1199c888e04e",
      "metadata": {
        "id": "a6fe2a7e-0fa4-4e11-bbbe-1199c888e04e",
        "outputId": "84a22300-8385-41e8-f993-b09520b2650e"
      },
      "outputs": [
        {
          "data": {
            "text/html": [
              "<div>\n",
              "<style scoped>\n",
              "    .dataframe tbody tr th:only-of-type {\n",
              "        vertical-align: middle;\n",
              "    }\n",
              "\n",
              "    .dataframe tbody tr th {\n",
              "        vertical-align: top;\n",
              "    }\n",
              "\n",
              "    .dataframe thead th {\n",
              "        text-align: right;\n",
              "    }\n",
              "</style>\n",
              "<table border=\"1\" class=\"dataframe\">\n",
              "  <thead>\n",
              "    <tr style=\"text-align: right;\">\n",
              "      <th></th>\n",
              "      <th>userid</th>\n",
              "      <th>dt</th>\n",
              "      <th>groupid</th>\n",
              "      <th>ctr</th>\n",
              "    </tr>\n",
              "  </thead>\n",
              "  <tbody>\n",
              "    <tr>\n",
              "      <th>0</th>\n",
              "      <td>60389fa7-2d71-4cdf-831c-c2bb277ffa1e</td>\n",
              "      <td>2021-11-13</td>\n",
              "      <td>0</td>\n",
              "      <td>31.81</td>\n",
              "    </tr>\n",
              "    <tr>\n",
              "      <th>1</th>\n",
              "      <td>b59cb225-d160-4851-92d2-7cc8120a2f63</td>\n",
              "      <td>2021-11-13</td>\n",
              "      <td>0</td>\n",
              "      <td>30.46</td>\n",
              "    </tr>\n",
              "    <tr>\n",
              "      <th>2</th>\n",
              "      <td>aa336050-934e-453f-a5b0-dd881fcd114e</td>\n",
              "      <td>2021-11-13</td>\n",
              "      <td>0</td>\n",
              "      <td>34.25</td>\n",
              "    </tr>\n",
              "    <tr>\n",
              "      <th>3</th>\n",
              "      <td>8df767f4-a10f-4322-a722-676b7e02b372</td>\n",
              "      <td>2021-11-13</td>\n",
              "      <td>0</td>\n",
              "      <td>34.92</td>\n",
              "    </tr>\n",
              "    <tr>\n",
              "      <th>4</th>\n",
              "      <td>a74762ed-4da0-42ab-91d2-40d7e808dfe9</td>\n",
              "      <td>2021-11-13</td>\n",
              "      <td>0</td>\n",
              "      <td>34.95</td>\n",
              "    </tr>\n",
              "  </tbody>\n",
              "</table>\n",
              "</div>"
            ],
            "text/plain": [
              "                                 userid          dt  groupid    ctr\n",
              "0  60389fa7-2d71-4cdf-831c-c2bb277ffa1e  2021-11-13        0  31.81\n",
              "1  b59cb225-d160-4851-92d2-7cc8120a2f63  2021-11-13        0  30.46\n",
              "2  aa336050-934e-453f-a5b0-dd881fcd114e  2021-11-13        0  34.25\n",
              "3  8df767f4-a10f-4322-a722-676b7e02b372  2021-11-13        0  34.92\n",
              "4  a74762ed-4da0-42ab-91d2-40d7e808dfe9  2021-11-13        0  34.95"
            ]
          },
          "execution_count": 42,
          "metadata": {},
          "output_type": "execute_result"
        }
      ],
      "source": [
        "data_ctr.head()"
      ]
    },
    {
      "cell_type": "code",
      "execution_count": null,
      "id": "133cf1a1-3b2c-480b-a0f5-26a7f8d8d8e3",
      "metadata": {
        "id": "133cf1a1-3b2c-480b-a0f5-26a7f8d8d8e3"
      },
      "outputs": [],
      "source": [
        "data_ctr_avg = data_ctr.groupby(['groupid','dt']).mean().reset_index()"
      ]
    },
    {
      "cell_type": "code",
      "execution_count": null,
      "id": "c249e2ee-5405-482b-81fb-b395fe656543",
      "metadata": {
        "id": "c249e2ee-5405-482b-81fb-b395fe656543",
        "outputId": "f3daad50-ab22-40a6-8b88-eaffd61f573a"
      },
      "outputs": [
        {
          "data": {
            "text/html": [
              "\n",
              "<div id=\"altair-viz-cd0ac65554674fe8b7e1586a3edab2b1\"></div>\n",
              "<script type=\"text/javascript\">\n",
              "  (function(spec, embedOpt){\n",
              "    let outputDiv = document.currentScript.previousElementSibling;\n",
              "    if (outputDiv.id !== \"altair-viz-cd0ac65554674fe8b7e1586a3edab2b1\") {\n",
              "      outputDiv = document.getElementById(\"altair-viz-cd0ac65554674fe8b7e1586a3edab2b1\");\n",
              "    }\n",
              "    const paths = {\n",
              "      \"vega\": \"https://cdn.jsdelivr.net/npm//vega@5?noext\",\n",
              "      \"vega-lib\": \"https://cdn.jsdelivr.net/npm//vega-lib?noext\",\n",
              "      \"vega-lite\": \"https://cdn.jsdelivr.net/npm//vega-lite@4.8.1?noext\",\n",
              "      \"vega-embed\": \"https://cdn.jsdelivr.net/npm//vega-embed@6?noext\",\n",
              "    };\n",
              "\n",
              "    function loadScript(lib) {\n",
              "      return new Promise(function(resolve, reject) {\n",
              "        var s = document.createElement('script');\n",
              "        s.src = paths[lib];\n",
              "        s.async = true;\n",
              "        s.onload = () => resolve(paths[lib]);\n",
              "        s.onerror = () => reject(`Error loading script: ${paths[lib]}`);\n",
              "        document.getElementsByTagName(\"head\")[0].appendChild(s);\n",
              "      });\n",
              "    }\n",
              "\n",
              "    function showError(err) {\n",
              "      outputDiv.innerHTML = `<div class=\"error\" style=\"color:red;\">${err}</div>`;\n",
              "      throw err;\n",
              "    }\n",
              "\n",
              "    function displayChart(vegaEmbed) {\n",
              "      vegaEmbed(outputDiv, spec, embedOpt)\n",
              "        .catch(err => showError(`Javascript Error: ${err.message}<br>This usually means there's a typo in your chart specification. See the javascript console for the full traceback.`));\n",
              "    }\n",
              "\n",
              "    if(typeof define === \"function\" && define.amd) {\n",
              "      requirejs.config({paths});\n",
              "      require([\"vega-embed\"], displayChart, err => showError(`Error loading script: ${err.message}`));\n",
              "    } else if (typeof vegaEmbed === \"function\") {\n",
              "      displayChart(vegaEmbed);\n",
              "    } else {\n",
              "      loadScript(\"vega\")\n",
              "        .then(() => loadScript(\"vega-lite\"))\n",
              "        .then(() => loadScript(\"vega-embed\"))\n",
              "        .catch(showError)\n",
              "        .then(() => displayChart(vegaEmbed));\n",
              "    }\n",
              "  })({\"config\": {\"view\": {\"continuousWidth\": 400, \"continuousHeight\": 300}}, \"data\": {\"name\": \"data-bfb49b1a2a499b9338312eaf8832d98d\"}, \"mark\": {\"type\": \"line\", \"size\": 5}, \"encoding\": {\"color\": {\"type\": \"ordinal\", \"field\": \"groupid\"}, \"tooltip\": [{\"type\": \"quantitative\", \"field\": \"ctr\"}], \"x\": {\"type\": \"nominal\", \"field\": \"dt\"}, \"y\": {\"type\": \"quantitative\", \"field\": \"ctr\"}}, \"height\": 400, \"width\": 600, \"$schema\": \"https://vega.github.io/schema/vega-lite/v4.8.1.json\", \"datasets\": {\"data-bfb49b1a2a499b9338312eaf8832d98d\": [{\"groupid\": 0, \"dt\": \"2021-10-01\", \"ctr\": 32.98062658929386}, {\"groupid\": 0, \"dt\": \"2021-10-02\", \"ctr\": 33.00405627198124}, {\"groupid\": 0, \"dt\": \"2021-10-03\", \"ctr\": 33.002006094793494}, {\"groupid\": 0, \"dt\": \"2021-10-04\", \"ctr\": 32.99036289527316}, {\"groupid\": 0, \"dt\": \"2021-10-05\", \"ctr\": 33.01416699722332}, {\"groupid\": 0, \"dt\": \"2021-10-06\", \"ctr\": 33.02166025432018}, {\"groupid\": 0, \"dt\": \"2021-10-07\", \"ctr\": 32.97636582822886}, {\"groupid\": 0, \"dt\": \"2021-10-08\", \"ctr\": 33.003954548414406}, {\"groupid\": 0, \"dt\": \"2021-10-09\", \"ctr\": 33.02420792401275}, {\"groupid\": 0, \"dt\": \"2021-10-10\", \"ctr\": 33.002929240034035}, {\"groupid\": 0, \"dt\": \"2021-10-11\", \"ctr\": 32.990675817680284}, {\"groupid\": 0, \"dt\": \"2021-10-12\", \"ctr\": 32.982114453891434}, {\"groupid\": 0, \"dt\": \"2021-10-13\", \"ctr\": 33.00414308073562}, {\"groupid\": 0, \"dt\": \"2021-10-14\", \"ctr\": 32.99352795031056}, {\"groupid\": 0, \"dt\": \"2021-10-15\", \"ctr\": 33.01448648294822}, {\"groupid\": 0, \"dt\": \"2021-10-16\", \"ctr\": 32.99120927808183}, {\"groupid\": 0, \"dt\": \"2021-10-17\", \"ctr\": 32.994388204795854}, {\"groupid\": 0, \"dt\": \"2021-10-18\", \"ctr\": 33.001452374704805}, {\"groupid\": 0, \"dt\": \"2021-10-19\", \"ctr\": 33.010430634516105}, {\"groupid\": 0, \"dt\": \"2021-10-20\", \"ctr\": 32.99715316603823}, {\"groupid\": 0, \"dt\": \"2021-10-21\", \"ctr\": 32.99495625688549}, {\"groupid\": 0, \"dt\": \"2021-10-22\", \"ctr\": 33.007837327429016}, {\"groupid\": 0, \"dt\": \"2021-10-23\", \"ctr\": 33.02130354432051}, {\"groupid\": 0, \"dt\": \"2021-10-24\", \"ctr\": 32.96157039711191}, {\"groupid\": 0, \"dt\": \"2021-10-25\", \"ctr\": 32.997385838056154}, {\"groupid\": 0, \"dt\": \"2021-10-26\", \"ctr\": 33.02775523560209}, {\"groupid\": 0, \"dt\": \"2021-10-27\", \"ctr\": 33.008124070120964}, {\"groupid\": 0, \"dt\": \"2021-10-28\", \"ctr\": 33.00568031618504}, {\"groupid\": 0, \"dt\": \"2021-10-29\", \"ctr\": 33.00055146575523}, {\"groupid\": 0, \"dt\": \"2021-10-30\", \"ctr\": 33.000058227019956}, {\"groupid\": 0, \"dt\": \"2021-10-31\", \"ctr\": 33.003953840084165}, {\"groupid\": 0, \"dt\": \"2021-11-01\", \"ctr\": 32.982671211457884}, {\"groupid\": 0, \"dt\": \"2021-11-02\", \"ctr\": 33.01498315027459}, {\"groupid\": 0, \"dt\": \"2021-11-03\", \"ctr\": 33.008268427939434}, {\"groupid\": 0, \"dt\": \"2021-11-04\", \"ctr\": 32.98667892768079}, {\"groupid\": 0, \"dt\": \"2021-11-05\", \"ctr\": 33.00476597070738}, {\"groupid\": 0, \"dt\": \"2021-11-06\", \"ctr\": 32.998322181226946}, {\"groupid\": 0, \"dt\": \"2021-11-07\", \"ctr\": 33.00622760800843}, {\"groupid\": 0, \"dt\": \"2021-11-08\", \"ctr\": 32.99077858427942}, {\"groupid\": 0, \"dt\": \"2021-11-09\", \"ctr\": 33.021024885601456}, {\"groupid\": 0, \"dt\": \"2021-11-10\", \"ctr\": 32.99329080675422}, {\"groupid\": 0, \"dt\": \"2021-11-11\", \"ctr\": 33.00973761296354}, {\"groupid\": 0, \"dt\": \"2021-11-12\", \"ctr\": 32.98669714357778}, {\"groupid\": 0, \"dt\": \"2021-11-13\", \"ctr\": 32.9809378325925}, {\"groupid\": 0, \"dt\": \"2021-11-14\", \"ctr\": 33.0229763986014}, {\"groupid\": 0, \"dt\": \"2021-11-15\", \"ctr\": 32.98153984607745}, {\"groupid\": 0, \"dt\": \"2021-11-16\", \"ctr\": 32.99275716851428}, {\"groupid\": 0, \"dt\": \"2021-11-17\", \"ctr\": 32.98997876990322}, {\"groupid\": 0, \"dt\": \"2021-11-18\", \"ctr\": 32.9980620978322}, {\"groupid\": 0, \"dt\": \"2021-11-19\", \"ctr\": 32.99927657724789}, {\"groupid\": 0, \"dt\": \"2021-11-20\", \"ctr\": 32.98435487880671}, {\"groupid\": 0, \"dt\": \"2021-11-21\", \"ctr\": 33.01392049169609}, {\"groupid\": 0, \"dt\": \"2021-11-22\", \"ctr\": 33.006160978496744}, {\"groupid\": 0, \"dt\": \"2021-11-23\", \"ctr\": 32.99264911825726}, {\"groupid\": 0, \"dt\": \"2021-11-24\", \"ctr\": 32.995949895615865}, {\"groupid\": 0, \"dt\": \"2021-11-25\", \"ctr\": 32.97369649805447}, {\"groupid\": 0, \"dt\": \"2021-11-26\", \"ctr\": 32.98306712202811}, {\"groupid\": 0, \"dt\": \"2021-11-27\", \"ctr\": 32.998942169305245}, {\"groupid\": 0, \"dt\": \"2021-11-28\", \"ctr\": 32.99494667277367}, {\"groupid\": 0, \"dt\": \"2021-11-29\", \"ctr\": 33.00110054701745}, {\"groupid\": 0, \"dt\": \"2021-11-30\", \"ctr\": 32.99472551342812}, {\"groupid\": 1, \"dt\": \"2021-10-01\", \"ctr\": 33.00629862064457}, {\"groupid\": 1, \"dt\": \"2021-10-02\", \"ctr\": 32.97932624343428}, {\"groupid\": 1, \"dt\": \"2021-10-03\", \"ctr\": 32.98813891420388}, {\"groupid\": 1, \"dt\": \"2021-10-04\", \"ctr\": 32.99559591889784}, {\"groupid\": 1, \"dt\": \"2021-10-05\", \"ctr\": 32.994796274738064}, {\"groupid\": 1, \"dt\": \"2021-10-06\", \"ctr\": 33.015461317302666}, {\"groupid\": 1, \"dt\": \"2021-10-07\", \"ctr\": 33.00067752272579}, {\"groupid\": 1, \"dt\": \"2021-10-08\", \"ctr\": 32.99331299612937}, {\"groupid\": 1, \"dt\": \"2021-10-09\", \"ctr\": 32.98615221170562}, {\"groupid\": 1, \"dt\": \"2021-10-10\", \"ctr\": 33.011332331416625}, {\"groupid\": 1, \"dt\": \"2021-10-11\", \"ctr\": 32.98992596475136}, {\"groupid\": 1, \"dt\": \"2021-10-12\", \"ctr\": 33.01009529983793}, {\"groupid\": 1, \"dt\": \"2021-10-13\", \"ctr\": 32.96447332598691}, {\"groupid\": 1, \"dt\": \"2021-10-14\", \"ctr\": 33.006175993774725}, {\"groupid\": 1, \"dt\": \"2021-10-15\", \"ctr\": 33.00258072916667}, {\"groupid\": 1, \"dt\": \"2021-10-16\", \"ctr\": 32.990841796875}, {\"groupid\": 1, \"dt\": \"2021-10-17\", \"ctr\": 33.00950754359611}, {\"groupid\": 1, \"dt\": \"2021-10-18\", \"ctr\": 33.01399029126214}, {\"groupid\": 1, \"dt\": \"2021-10-19\", \"ctr\": 32.99257982203612}, {\"groupid\": 1, \"dt\": \"2021-10-20\", \"ctr\": 33.012096282359046}, {\"groupid\": 1, \"dt\": \"2021-10-21\", \"ctr\": 33.00020230456986}, {\"groupid\": 1, \"dt\": \"2021-10-22\", \"ctr\": 33.00572320431097}, {\"groupid\": 1, \"dt\": \"2021-10-23\", \"ctr\": 33.00335355621531}, {\"groupid\": 1, \"dt\": \"2021-10-24\", \"ctr\": 33.0069234790564}, {\"groupid\": 1, \"dt\": \"2021-10-25\", \"ctr\": 32.98301932525385}, {\"groupid\": 1, \"dt\": \"2021-10-26\", \"ctr\": 33.00083999220425}, {\"groupid\": 1, \"dt\": \"2021-10-27\", \"ctr\": 33.005947901591895}, {\"groupid\": 1, \"dt\": \"2021-10-28\", \"ctr\": 33.00574117647059}, {\"groupid\": 1, \"dt\": \"2021-10-29\", \"ctr\": 33.00783867431814}, {\"groupid\": 1, \"dt\": \"2021-10-30\", \"ctr\": 33.03274001173173}, {\"groupid\": 1, \"dt\": \"2021-10-31\", \"ctr\": 32.97118672849585}, {\"groupid\": 1, \"dt\": \"2021-11-01\", \"ctr\": 37.9946186643018}, {\"groupid\": 1, \"dt\": \"2021-11-02\", \"ctr\": 38.01365632148588}, {\"groupid\": 1, \"dt\": \"2021-11-03\", \"ctr\": 37.99556200095543}, {\"groupid\": 1, \"dt\": \"2021-11-04\", \"ctr\": 37.988511634263844}, {\"groupid\": 1, \"dt\": \"2021-11-05\", \"ctr\": 38.00281565312245}, {\"groupid\": 1, \"dt\": \"2021-11-06\", \"ctr\": 38.01312666348188}, {\"groupid\": 1, \"dt\": \"2021-11-07\", \"ctr\": 37.99576243377201}, {\"groupid\": 1, \"dt\": \"2021-11-08\", \"ctr\": 37.99487099750538}, {\"groupid\": 1, \"dt\": \"2021-11-09\", \"ctr\": 38.01321723690501}, {\"groupid\": 1, \"dt\": \"2021-11-10\", \"ctr\": 37.99005896387185}, {\"groupid\": 1, \"dt\": \"2021-11-11\", \"ctr\": 37.994286006337525}, {\"groupid\": 1, \"dt\": \"2021-11-12\", \"ctr\": 37.99615957374138}, {\"groupid\": 1, \"dt\": \"2021-11-13\", \"ctr\": 38.004073074031034}, {\"groupid\": 1, \"dt\": \"2021-11-14\", \"ctr\": 38.002104563126665}, {\"groupid\": 1, \"dt\": \"2021-11-15\", \"ctr\": 37.99379248048539}, {\"groupid\": 1, \"dt\": \"2021-11-16\", \"ctr\": 38.00073617747441}, {\"groupid\": 1, \"dt\": \"2021-11-17\", \"ctr\": 38.01606465046422}, {\"groupid\": 1, \"dt\": \"2021-11-18\", \"ctr\": 38.00059780009565}, {\"groupid\": 1, \"dt\": \"2021-11-19\", \"ctr\": 37.99372593199508}, {\"groupid\": 1, \"dt\": \"2021-11-20\", \"ctr\": 37.99248218486822}, {\"groupid\": 1, \"dt\": \"2021-11-21\", \"ctr\": 37.99136715684602}, {\"groupid\": 1, \"dt\": \"2021-11-22\", \"ctr\": 37.99126989548466}, {\"groupid\": 1, \"dt\": \"2021-11-23\", \"ctr\": 37.99545767918089}, {\"groupid\": 1, \"dt\": \"2021-11-24\", \"ctr\": 37.98753166934135}, {\"groupid\": 1, \"dt\": \"2021-11-25\", \"ctr\": 37.99161564451725}, {\"groupid\": 1, \"dt\": \"2021-11-26\", \"ctr\": 37.99783435143159}, {\"groupid\": 1, \"dt\": \"2021-11-27\", \"ctr\": 37.97891209540034}, {\"groupid\": 1, \"dt\": \"2021-11-28\", \"ctr\": 37.992709322583956}, {\"groupid\": 1, \"dt\": \"2021-11-29\", \"ctr\": 37.987909112636146}, {\"groupid\": 1, \"dt\": \"2021-11-30\", \"ctr\": 37.99798209788305}]}}, {\"mode\": \"vega-lite\"});\n",
              "</script>"
            ],
            "text/plain": [
              "alt.Chart(...)"
            ]
          },
          "execution_count": 44,
          "metadata": {},
          "output_type": "execute_result"
        }
      ],
      "source": [
        "#Average CTR for each date for each group\n",
        "\n",
        "alt.Chart(data_ctr_avg).mark_line(size=5).encode(\n",
        "    alt.X('dt'),\n",
        "    alt.Y('ctr'),\n",
        "    color='groupid:O',\n",
        "    tooltip=['ctr']\n",
        ").properties(\n",
        "    width=600,\n",
        "    height=400\n",
        ")"
      ]
    },
    {
      "cell_type": "code",
      "execution_count": null,
      "id": "0fcb9999-0c2f-4f51-9f61-ff7bcf9065eb",
      "metadata": {
        "id": "0fcb9999-0c2f-4f51-9f61-ff7bcf9065eb"
      },
      "outputs": [],
      "source": [
        "before = data_ctr.query('dt < \"2021-11-01\"')[['groupid', 'ctr']]"
      ]
    },
    {
      "cell_type": "code",
      "execution_count": null,
      "id": "7afe0b57-06da-4602-a6c7-e5f8975d5942",
      "metadata": {
        "id": "7afe0b57-06da-4602-a6c7-e5f8975d5942"
      },
      "outputs": [],
      "source": [
        "after = data_ctr.query('dt >= \"2021-11-01\"')[['groupid', 'ctr']]"
      ]
    },
    {
      "cell_type": "code",
      "execution_count": null,
      "id": "ec2875dd-5a7b-4f54-8af1-88646f4a4abd",
      "metadata": {
        "id": "ec2875dd-5a7b-4f54-8af1-88646f4a4abd",
        "outputId": "f73dc01d-451e-4c58-e8f7-4269d8587dac"
      },
      "outputs": [
        {
          "data": {
            "text/html": [
              "<div>\n",
              "<style scoped>\n",
              "    .dataframe tbody tr th:only-of-type {\n",
              "        vertical-align: middle;\n",
              "    }\n",
              "\n",
              "    .dataframe tbody tr th {\n",
              "        vertical-align: top;\n",
              "    }\n",
              "\n",
              "    .dataframe thead th {\n",
              "        text-align: right;\n",
              "    }\n",
              "</style>\n",
              "<table border=\"1\" class=\"dataframe\">\n",
              "  <thead>\n",
              "    <tr style=\"text-align: right;\">\n",
              "      <th></th>\n",
              "      <th>groupid</th>\n",
              "      <th>ctr</th>\n",
              "    </tr>\n",
              "  </thead>\n",
              "  <tbody>\n",
              "    <tr>\n",
              "      <th>0</th>\n",
              "      <td>0</td>\n",
              "      <td>31.81</td>\n",
              "    </tr>\n",
              "    <tr>\n",
              "      <th>1</th>\n",
              "      <td>0</td>\n",
              "      <td>30.46</td>\n",
              "    </tr>\n",
              "    <tr>\n",
              "      <th>2</th>\n",
              "      <td>0</td>\n",
              "      <td>34.25</td>\n",
              "    </tr>\n",
              "    <tr>\n",
              "      <th>3</th>\n",
              "      <td>0</td>\n",
              "      <td>34.92</td>\n",
              "    </tr>\n",
              "    <tr>\n",
              "      <th>4</th>\n",
              "      <td>0</td>\n",
              "      <td>34.95</td>\n",
              "    </tr>\n",
              "    <tr>\n",
              "      <th>...</th>\n",
              "      <td>...</td>\n",
              "      <td>...</td>\n",
              "    </tr>\n",
              "    <tr>\n",
              "      <th>2303403</th>\n",
              "      <td>1</td>\n",
              "      <td>37.27</td>\n",
              "    </tr>\n",
              "    <tr>\n",
              "      <th>2303404</th>\n",
              "      <td>1</td>\n",
              "      <td>39.14</td>\n",
              "    </tr>\n",
              "    <tr>\n",
              "      <th>2303405</th>\n",
              "      <td>1</td>\n",
              "      <td>40.05</td>\n",
              "    </tr>\n",
              "    <tr>\n",
              "      <th>2303406</th>\n",
              "      <td>1</td>\n",
              "      <td>38.14</td>\n",
              "    </tr>\n",
              "    <tr>\n",
              "      <th>2303407</th>\n",
              "      <td>1</td>\n",
              "      <td>37.98</td>\n",
              "    </tr>\n",
              "  </tbody>\n",
              "</table>\n",
              "<p>1352533 rows × 2 columns</p>\n",
              "</div>"
            ],
            "text/plain": [
              "         groupid    ctr\n",
              "0              0  31.81\n",
              "1              0  30.46\n",
              "2              0  34.25\n",
              "3              0  34.92\n",
              "4              0  34.95\n",
              "...          ...    ...\n",
              "2303403        1  37.27\n",
              "2303404        1  39.14\n",
              "2303405        1  40.05\n",
              "2303406        1  38.14\n",
              "2303407        1  37.98\n",
              "\n",
              "[1352533 rows x 2 columns]"
            ]
          },
          "execution_count": 59,
          "metadata": {},
          "output_type": "execute_result"
        }
      ],
      "source": [
        "after"
      ]
    },
    {
      "cell_type": "code",
      "execution_count": null,
      "id": "e361078c-b856-4c7a-b309-647135e7a5dd",
      "metadata": {
        "id": "e361078c-b856-4c7a-b309-647135e7a5dd",
        "outputId": "92964968-3e4b-4ba5-f080-18b66e2e7e0f"
      },
      "outputs": [
        {
          "data": {
            "text/plain": [
              "33.00091277553074"
            ]
          },
          "execution_count": 48,
          "metadata": {},
          "output_type": "execute_result"
        }
      ],
      "source": [
        "before.query('groupid == 0')['ctr'].to_numpy().mean()"
      ]
    },
    {
      "cell_type": "code",
      "execution_count": null,
      "id": "b93896aa-f0a5-44fd-ae37-8833fc15eefb",
      "metadata": {
        "id": "b93896aa-f0a5-44fd-ae37-8833fc15eefb",
        "outputId": "fa3c39e2-bc92-497c-e843-2bab359af8e8"
      },
      "outputs": [
        {
          "data": {
            "text/plain": [
              "32.99957172093258"
            ]
          },
          "execution_count": 49,
          "metadata": {},
          "output_type": "execute_result"
        }
      ],
      "source": [
        "before.query('groupid == 1')['ctr'].to_numpy().mean()"
      ]
    },
    {
      "cell_type": "code",
      "execution_count": null,
      "id": "30b93d91-cac5-4d48-82c2-a9920d838706",
      "metadata": {
        "id": "30b93d91-cac5-4d48-82c2-a9920d838706",
        "outputId": "e928eddd-4b7f-44a8-a894-434d4e0d9532"
      },
      "outputs": [
        {
          "data": {
            "text/plain": [
              "32.996977569382835"
            ]
          },
          "execution_count": 50,
          "metadata": {},
          "output_type": "execute_result"
        }
      ],
      "source": [
        "after.query('groupid == 0')['ctr'].to_numpy().mean()"
      ]
    },
    {
      "cell_type": "code",
      "execution_count": null,
      "id": "a602b9c2-1c9d-45cc-bc4c-55d28278d151",
      "metadata": {
        "id": "a602b9c2-1c9d-45cc-bc4c-55d28278d151",
        "outputId": "c9f46f59-d5fb-4808-8971-ab840e3f903b"
      },
      "outputs": [
        {
          "data": {
            "text/plain": [
              "37.99695912626142"
            ]
          },
          "execution_count": 51,
          "metadata": {},
          "output_type": "execute_result"
        }
      ],
      "source": [
        "#Around 5% difference after the test between group 0 and 1\n",
        "\n",
        "after.query('groupid == 1')['ctr'].to_numpy().mean()"
      ]
    },
    {
      "cell_type": "code",
      "execution_count": null,
      "id": "d974c618-7579-4a7c-b461-e0d44da05b3d",
      "metadata": {
        "id": "d974c618-7579-4a7c-b461-e0d44da05b3d",
        "outputId": "3cd3ebeb-685e-4d01-f9d8-6fe78a75c339"
      },
      "outputs": [
        {
          "data": {
            "text/plain": [
              "1.7336979501682888"
            ]
          },
          "execution_count": 52,
          "metadata": {},
          "output_type": "execute_result"
        }
      ],
      "source": [
        "before.query('groupid == 0')['ctr'].to_numpy().std()"
      ]
    },
    {
      "cell_type": "code",
      "execution_count": null,
      "id": "00e401b9-6985-4e8d-8c22-085a6b5a90bf",
      "metadata": {
        "id": "00e401b9-6985-4e8d-8c22-085a6b5a90bf",
        "outputId": "e0ec9e78-6fe9-4055-b5ce-e4a0dec116b3"
      },
      "outputs": [
        {
          "data": {
            "text/plain": [
              "1.7296548367391134"
            ]
          },
          "execution_count": 53,
          "metadata": {},
          "output_type": "execute_result"
        }
      ],
      "source": [
        "before.query('groupid == 1')['ctr'].to_numpy().std()"
      ]
    },
    {
      "cell_type": "code",
      "execution_count": null,
      "id": "e89c8756-1781-4648-bad9-f03af02bde99",
      "metadata": {
        "id": "e89c8756-1781-4648-bad9-f03af02bde99",
        "outputId": "7b1d7231-5a71-47a4-a3fe-7b0c495b4df8"
      },
      "outputs": [
        {
          "data": {
            "text/plain": [
              "1.7331985918552912"
            ]
          },
          "execution_count": 54,
          "metadata": {},
          "output_type": "execute_result"
        }
      ],
      "source": [
        "after.query('groupid == 0')['ctr'].to_numpy().std()"
      ]
    },
    {
      "cell_type": "code",
      "execution_count": null,
      "id": "a701e825-b812-4aa9-bc40-ab9d44b7f203",
      "metadata": {
        "id": "a701e825-b812-4aa9-bc40-ab9d44b7f203",
        "outputId": "e32b61c2-dffa-44d1-9ea6-5c5082fb5197"
      },
      "outputs": [
        {
          "data": {
            "text/plain": [
              "1.7323710606903675"
            ]
          },
          "execution_count": 55,
          "metadata": {},
          "output_type": "execute_result"
        }
      ],
      "source": [
        "after.query('groupid == 1')['ctr'].to_numpy().std()"
      ]
    },
    {
      "cell_type": "code",
      "execution_count": null,
      "id": "8ed1a047-7d6e-4e68-9540-f9c8819b4c52",
      "metadata": {
        "id": "8ed1a047-7d6e-4e68-9540-f9c8819b4c52",
        "outputId": "c8dee153-15d4-42bc-b7ee-85fa40cdf54d"
      },
      "outputs": [
        {
          "name": "stdout",
          "output_type": "stream",
          "text": [
            "0.705741417344299\n"
          ]
        }
      ],
      "source": [
        "#Compare the before the group zero to group 1 , very little difference between 2 groups. Two groups have really similiar CTR\n",
        "\n",
        "res = ttest_ind(before.query('groupid == 0')['ctr'].to_numpy(), before.query('groupid == 1')['ctr']\n",
        "                .to_numpy()).pvalue\n",
        "\n",
        "print(res)"
      ]
    },
    {
      "cell_type": "code",
      "execution_count": null,
      "id": "c45520bd-6b71-4fee-814d-ce925cad4b8c",
      "metadata": {
        "id": "c45520bd-6b71-4fee-814d-ce925cad4b8c",
        "outputId": "a4bd2dfb-35f3-4e1b-a4cf-2cb1ad3c6775"
      },
      "outputs": [
        {
          "name": "stdout",
          "output_type": "stream",
          "text": [
            "0.0\n"
          ]
        }
      ],
      "source": [
        "res = ttest_ind(after.query('groupid == 0')['ctr'].to_numpy(), after.query('groupid == 1')['ctr']\n",
        "                .to_numpy()).pvalue\n",
        "print(res)"
      ]
    },
    {
      "cell_type": "code",
      "execution_count": null,
      "id": "e82c0078-bfde-4b95-a1e6-f80baed78c11",
      "metadata": {
        "id": "e82c0078-bfde-4b95-a1e6-f80baed78c11",
        "outputId": "f5d9f61e-f134-4a1f-a1d6-a4bbb87cb868"
      },
      "outputs": [
        {
          "data": {
            "text/plain": [
              "'0.0000000000000000000000000000000000000000000000000000000000000000000000000000000000000000000000000000'"
            ]
          },
          "execution_count": 58,
          "metadata": {},
          "output_type": "execute_result"
        }
      ],
      "source": [
        "#And after the start and we have a very high certainity in the difference in CTR, because our minimum detectable effect here is large or 5% increase\n",
        "\n",
        "\"{:.100f}\".format(res)"
      ]
    },
    {
      "cell_type": "markdown",
      "source": [
        "Based on the test, we can say that the test was successful and we have a 5% increase in CTR and also a pretty sizable increase in user activity"
      ],
      "metadata": {
        "id": "LP21JlRBSwwM"
      },
      "id": "LP21JlRBSwwM"
    }
  ],
  "metadata": {
    "kernelspec": {
      "display_name": "Python 3 (ipykernel)",
      "language": "python",
      "name": "python3"
    },
    "language_info": {
      "codemirror_mode": {
        "name": "ipython",
        "version": 3
      },
      "file_extension": ".py",
      "mimetype": "text/x-python",
      "name": "python",
      "nbconvert_exporter": "python",
      "pygments_lexer": "ipython3",
      "version": "3.9.1"
    },
    "colab": {
      "provenance": []
    }
  },
  "nbformat": 4,
  "nbformat_minor": 5
}